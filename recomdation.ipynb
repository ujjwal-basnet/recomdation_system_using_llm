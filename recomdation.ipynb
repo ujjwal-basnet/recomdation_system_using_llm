{
 "cells": [
  {
   "cell_type": "code",
   "execution_count": 166,
   "id": "e4d9faf7",
   "metadata": {},
   "outputs": [],
   "source": [
    "import os \n",
    "\n"
   ]
  },
  {
   "cell_type": "code",
   "execution_count": 167,
   "id": "2249b797",
   "metadata": {},
   "outputs": [
    {
     "data": {
      "text/plain": [
       "array([[4, 0, 5, 0],\n",
       "       [0, 3, 0, 2],\n",
       "       [5, 4, 0, 3]])"
      ]
     },
     "execution_count": 167,
     "metadata": {},
     "output_type": "execute_result"
    }
   ],
   "source": [
    "import numpy as np \n",
    "\n",
    "user_moview_matrix= np.array([\n",
    "    [4, 0, 5, 0],\n",
    "    [0, 3, 0, 2],\n",
    "    [5, 4, 0, 3]\n",
    "])\n",
    "\n",
    "user_moview_matrix"
   ]
  },
  {
   "cell_type": "code",
   "execution_count": 168,
   "id": "b1919d55",
   "metadata": {},
   "outputs": [
    {
     "data": {
      "text/plain": [
       "(array([[ 0.55366532, -0.79827961,  0.23707463],\n",
       "        [ 0.25209279,  0.4320076 ,  0.8659207 ],\n",
       "        [ 0.79366488,  0.41966545, -0.44042816]]),)"
      ]
     },
     "execution_count": 168,
     "metadata": {},
     "output_type": "execute_result"
    }
   ],
   "source": [
    "## aply SVD \n",
    "U , s ,V = np.linalg.svd(user_moview_matrix , full_matrices= False)\n",
    "U , "
   ]
  },
  {
   "cell_type": "code",
   "execution_count": 169,
   "id": "ddec7959",
   "metadata": {},
   "outputs": [
    {
     "data": {
      "text/plain": [
       "array([8.34682463, 5.52139049, 1.9608074 ])"
      ]
     },
     "execution_count": 169,
     "metadata": {},
     "output_type": "execute_result"
    }
   ],
   "source": [
    "s"
   ]
  },
  {
   "cell_type": "code",
   "execution_count": 170,
   "id": "e83f0dc8",
   "metadata": {},
   "outputs": [
    {
     "data": {
      "text/plain": [
       "array([[ 0.74075902,  0.4709501 ,  0.33166224,  0.34566201],\n",
       "       [-0.19828179,  0.53875643, -0.72289726,  0.38450669],\n",
       "       [-0.63945205,  0.4263802 ,  0.60453318,  0.20938156]])"
      ]
     },
     "execution_count": 170,
     "metadata": {},
     "output_type": "execute_result"
    }
   ],
   "source": [
    "V"
   ]
  },
  {
   "cell_type": "code",
   "execution_count": null,
   "id": "5eb55f9d",
   "metadata": {},
   "outputs": [],
   "source": []
  },
  {
   "cell_type": "code",
   "execution_count": 171,
   "id": "1cdd37ab",
   "metadata": {},
   "outputs": [
    {
     "name": "stderr",
     "output_type": "stream",
     "text": [
      "\u001b[2mUsing Python 3.11.8 environment at: D:\\ujjwal\\Building-LLMs-for-Production\\.venv\u001b[0m\n",
      "\u001b[2mAudited \u001b[1m1 package\u001b[0m \u001b[2min 7ms\u001b[0m\u001b[0m\n"
     ]
    }
   ],
   "source": [
    "!uv pip install kagglehub"
   ]
  },
  {
   "cell_type": "code",
   "execution_count": null,
   "id": "bcb0f527",
   "metadata": {},
   "outputs": [],
   "source": []
  },
  {
   "cell_type": "code",
   "execution_count": 172,
   "id": "2b5a3d08",
   "metadata": {},
   "outputs": [
    {
     "ename": "ConnectionError",
     "evalue": "HTTPSConnectionPool(host='www.kaggle.com', port=443): Max retries exceeded with url: /api/v1/datasets/view/rohan4050/movie-recommendation-data (Caused by NameResolutionError(\"<urllib3.connection.HTTPSConnection object at 0x000001F8A7D3E710>: Failed to resolve 'www.kaggle.com' ([Errno 11001] getaddrinfo failed)\"))",
     "output_type": "error",
     "traceback": [
      "\u001b[31m---------------------------------------------------------------------------\u001b[39m",
      "\u001b[31mgaierror\u001b[39m                                  Traceback (most recent call last)",
      "\u001b[36mFile \u001b[39m\u001b[32md:\\ujjwal\\Building-LLMs-for-Production\\.venv\\Lib\\site-packages\\urllib3\\connection.py:198\u001b[39m, in \u001b[36mHTTPConnection._new_conn\u001b[39m\u001b[34m(self)\u001b[39m\n\u001b[32m    197\u001b[39m \u001b[38;5;28;01mtry\u001b[39;00m:\n\u001b[32m--> \u001b[39m\u001b[32m198\u001b[39m     sock = \u001b[43mconnection\u001b[49m\u001b[43m.\u001b[49m\u001b[43mcreate_connection\u001b[49m\u001b[43m(\u001b[49m\n\u001b[32m    199\u001b[39m \u001b[43m        \u001b[49m\u001b[43m(\u001b[49m\u001b[38;5;28;43mself\u001b[39;49m\u001b[43m.\u001b[49m\u001b[43m_dns_host\u001b[49m\u001b[43m,\u001b[49m\u001b[43m \u001b[49m\u001b[38;5;28;43mself\u001b[39;49m\u001b[43m.\u001b[49m\u001b[43mport\u001b[49m\u001b[43m)\u001b[49m\u001b[43m,\u001b[49m\n\u001b[32m    200\u001b[39m \u001b[43m        \u001b[49m\u001b[38;5;28;43mself\u001b[39;49m\u001b[43m.\u001b[49m\u001b[43mtimeout\u001b[49m\u001b[43m,\u001b[49m\n\u001b[32m    201\u001b[39m \u001b[43m        \u001b[49m\u001b[43msource_address\u001b[49m\u001b[43m=\u001b[49m\u001b[38;5;28;43mself\u001b[39;49m\u001b[43m.\u001b[49m\u001b[43msource_address\u001b[49m\u001b[43m,\u001b[49m\n\u001b[32m    202\u001b[39m \u001b[43m        \u001b[49m\u001b[43msocket_options\u001b[49m\u001b[43m=\u001b[49m\u001b[38;5;28;43mself\u001b[39;49m\u001b[43m.\u001b[49m\u001b[43msocket_options\u001b[49m\u001b[43m,\u001b[49m\n\u001b[32m    203\u001b[39m \u001b[43m    \u001b[49m\u001b[43m)\u001b[49m\n\u001b[32m    204\u001b[39m \u001b[38;5;28;01mexcept\u001b[39;00m socket.gaierror \u001b[38;5;28;01mas\u001b[39;00m e:\n",
      "\u001b[36mFile \u001b[39m\u001b[32md:\\ujjwal\\Building-LLMs-for-Production\\.venv\\Lib\\site-packages\\urllib3\\util\\connection.py:60\u001b[39m, in \u001b[36mcreate_connection\u001b[39m\u001b[34m(address, timeout, source_address, socket_options)\u001b[39m\n\u001b[32m     58\u001b[39m     \u001b[38;5;28;01mraise\u001b[39;00m LocationParseError(\u001b[33mf\u001b[39m\u001b[33m\"\u001b[39m\u001b[33m'\u001b[39m\u001b[38;5;132;01m{\u001b[39;00mhost\u001b[38;5;132;01m}\u001b[39;00m\u001b[33m'\u001b[39m\u001b[33m, label empty or too long\u001b[39m\u001b[33m\"\u001b[39m) \u001b[38;5;28;01mfrom\u001b[39;00m\u001b[38;5;250m \u001b[39m\u001b[38;5;28;01mNone\u001b[39;00m\n\u001b[32m---> \u001b[39m\u001b[32m60\u001b[39m \u001b[38;5;28;01mfor\u001b[39;00m res \u001b[38;5;129;01min\u001b[39;00m \u001b[43msocket\u001b[49m\u001b[43m.\u001b[49m\u001b[43mgetaddrinfo\u001b[49m\u001b[43m(\u001b[49m\u001b[43mhost\u001b[49m\u001b[43m,\u001b[49m\u001b[43m \u001b[49m\u001b[43mport\u001b[49m\u001b[43m,\u001b[49m\u001b[43m \u001b[49m\u001b[43mfamily\u001b[49m\u001b[43m,\u001b[49m\u001b[43m \u001b[49m\u001b[43msocket\u001b[49m\u001b[43m.\u001b[49m\u001b[43mSOCK_STREAM\u001b[49m\u001b[43m)\u001b[49m:\n\u001b[32m     61\u001b[39m     af, socktype, proto, canonname, sa = res\n",
      "\u001b[36mFile \u001b[39m\u001b[32m~\\AppData\\Local\\Programs\\Python\\Python311\\Lib\\socket.py:962\u001b[39m, in \u001b[36mgetaddrinfo\u001b[39m\u001b[34m(host, port, family, type, proto, flags)\u001b[39m\n\u001b[32m    961\u001b[39m addrlist = []\n\u001b[32m--> \u001b[39m\u001b[32m962\u001b[39m \u001b[38;5;28;01mfor\u001b[39;00m res \u001b[38;5;129;01min\u001b[39;00m \u001b[43m_socket\u001b[49m\u001b[43m.\u001b[49m\u001b[43mgetaddrinfo\u001b[49m\u001b[43m(\u001b[49m\u001b[43mhost\u001b[49m\u001b[43m,\u001b[49m\u001b[43m \u001b[49m\u001b[43mport\u001b[49m\u001b[43m,\u001b[49m\u001b[43m \u001b[49m\u001b[43mfamily\u001b[49m\u001b[43m,\u001b[49m\u001b[43m \u001b[49m\u001b[38;5;28;43mtype\u001b[39;49m\u001b[43m,\u001b[49m\u001b[43m \u001b[49m\u001b[43mproto\u001b[49m\u001b[43m,\u001b[49m\u001b[43m \u001b[49m\u001b[43mflags\u001b[49m\u001b[43m)\u001b[49m:\n\u001b[32m    963\u001b[39m     af, socktype, proto, canonname, sa = res\n",
      "\u001b[31mgaierror\u001b[39m: [Errno 11001] getaddrinfo failed",
      "\nThe above exception was the direct cause of the following exception:\n",
      "\u001b[31mNameResolutionError\u001b[39m                       Traceback (most recent call last)",
      "\u001b[36mFile \u001b[39m\u001b[32md:\\ujjwal\\Building-LLMs-for-Production\\.venv\\Lib\\site-packages\\urllib3\\connectionpool.py:787\u001b[39m, in \u001b[36mHTTPConnectionPool.urlopen\u001b[39m\u001b[34m(self, method, url, body, headers, retries, redirect, assert_same_host, timeout, pool_timeout, release_conn, chunked, body_pos, preload_content, decode_content, **response_kw)\u001b[39m\n\u001b[32m    786\u001b[39m \u001b[38;5;66;03m# Make the request on the HTTPConnection object\u001b[39;00m\n\u001b[32m--> \u001b[39m\u001b[32m787\u001b[39m response = \u001b[38;5;28;43mself\u001b[39;49m\u001b[43m.\u001b[49m\u001b[43m_make_request\u001b[49m\u001b[43m(\u001b[49m\n\u001b[32m    788\u001b[39m \u001b[43m    \u001b[49m\u001b[43mconn\u001b[49m\u001b[43m,\u001b[49m\n\u001b[32m    789\u001b[39m \u001b[43m    \u001b[49m\u001b[43mmethod\u001b[49m\u001b[43m,\u001b[49m\n\u001b[32m    790\u001b[39m \u001b[43m    \u001b[49m\u001b[43murl\u001b[49m\u001b[43m,\u001b[49m\n\u001b[32m    791\u001b[39m \u001b[43m    \u001b[49m\u001b[43mtimeout\u001b[49m\u001b[43m=\u001b[49m\u001b[43mtimeout_obj\u001b[49m\u001b[43m,\u001b[49m\n\u001b[32m    792\u001b[39m \u001b[43m    \u001b[49m\u001b[43mbody\u001b[49m\u001b[43m=\u001b[49m\u001b[43mbody\u001b[49m\u001b[43m,\u001b[49m\n\u001b[32m    793\u001b[39m \u001b[43m    \u001b[49m\u001b[43mheaders\u001b[49m\u001b[43m=\u001b[49m\u001b[43mheaders\u001b[49m\u001b[43m,\u001b[49m\n\u001b[32m    794\u001b[39m \u001b[43m    \u001b[49m\u001b[43mchunked\u001b[49m\u001b[43m=\u001b[49m\u001b[43mchunked\u001b[49m\u001b[43m,\u001b[49m\n\u001b[32m    795\u001b[39m \u001b[43m    \u001b[49m\u001b[43mretries\u001b[49m\u001b[43m=\u001b[49m\u001b[43mretries\u001b[49m\u001b[43m,\u001b[49m\n\u001b[32m    796\u001b[39m \u001b[43m    \u001b[49m\u001b[43mresponse_conn\u001b[49m\u001b[43m=\u001b[49m\u001b[43mresponse_conn\u001b[49m\u001b[43m,\u001b[49m\n\u001b[32m    797\u001b[39m \u001b[43m    \u001b[49m\u001b[43mpreload_content\u001b[49m\u001b[43m=\u001b[49m\u001b[43mpreload_content\u001b[49m\u001b[43m,\u001b[49m\n\u001b[32m    798\u001b[39m \u001b[43m    \u001b[49m\u001b[43mdecode_content\u001b[49m\u001b[43m=\u001b[49m\u001b[43mdecode_content\u001b[49m\u001b[43m,\u001b[49m\n\u001b[32m    799\u001b[39m \u001b[43m    \u001b[49m\u001b[43m*\u001b[49m\u001b[43m*\u001b[49m\u001b[43mresponse_kw\u001b[49m\u001b[43m,\u001b[49m\n\u001b[32m    800\u001b[39m \u001b[43m\u001b[49m\u001b[43m)\u001b[49m\n\u001b[32m    802\u001b[39m \u001b[38;5;66;03m# Everything went great!\u001b[39;00m\n",
      "\u001b[36mFile \u001b[39m\u001b[32md:\\ujjwal\\Building-LLMs-for-Production\\.venv\\Lib\\site-packages\\urllib3\\connectionpool.py:488\u001b[39m, in \u001b[36mHTTPConnectionPool._make_request\u001b[39m\u001b[34m(self, conn, method, url, body, headers, retries, timeout, chunked, response_conn, preload_content, decode_content, enforce_content_length)\u001b[39m\n\u001b[32m    487\u001b[39m         new_e = _wrap_proxy_error(new_e, conn.proxy.scheme)\n\u001b[32m--> \u001b[39m\u001b[32m488\u001b[39m     \u001b[38;5;28;01mraise\u001b[39;00m new_e\n\u001b[32m    490\u001b[39m \u001b[38;5;66;03m# conn.request() calls http.client.*.request, not the method in\u001b[39;00m\n\u001b[32m    491\u001b[39m \u001b[38;5;66;03m# urllib3.request. It also calls makefile (recv) on the socket.\u001b[39;00m\n",
      "\u001b[36mFile \u001b[39m\u001b[32md:\\ujjwal\\Building-LLMs-for-Production\\.venv\\Lib\\site-packages\\urllib3\\connectionpool.py:464\u001b[39m, in \u001b[36mHTTPConnectionPool._make_request\u001b[39m\u001b[34m(self, conn, method, url, body, headers, retries, timeout, chunked, response_conn, preload_content, decode_content, enforce_content_length)\u001b[39m\n\u001b[32m    463\u001b[39m \u001b[38;5;28;01mtry\u001b[39;00m:\n\u001b[32m--> \u001b[39m\u001b[32m464\u001b[39m     \u001b[38;5;28;43mself\u001b[39;49m\u001b[43m.\u001b[49m\u001b[43m_validate_conn\u001b[49m\u001b[43m(\u001b[49m\u001b[43mconn\u001b[49m\u001b[43m)\u001b[49m\n\u001b[32m    465\u001b[39m \u001b[38;5;28;01mexcept\u001b[39;00m (SocketTimeout, BaseSSLError) \u001b[38;5;28;01mas\u001b[39;00m e:\n",
      "\u001b[36mFile \u001b[39m\u001b[32md:\\ujjwal\\Building-LLMs-for-Production\\.venv\\Lib\\site-packages\\urllib3\\connectionpool.py:1093\u001b[39m, in \u001b[36mHTTPSConnectionPool._validate_conn\u001b[39m\u001b[34m(self, conn)\u001b[39m\n\u001b[32m   1092\u001b[39m \u001b[38;5;28;01mif\u001b[39;00m conn.is_closed:\n\u001b[32m-> \u001b[39m\u001b[32m1093\u001b[39m     \u001b[43mconn\u001b[49m\u001b[43m.\u001b[49m\u001b[43mconnect\u001b[49m\u001b[43m(\u001b[49m\u001b[43m)\u001b[49m\n\u001b[32m   1095\u001b[39m \u001b[38;5;66;03m# TODO revise this, see https://github.com/urllib3/urllib3/issues/2791\u001b[39;00m\n",
      "\u001b[36mFile \u001b[39m\u001b[32md:\\ujjwal\\Building-LLMs-for-Production\\.venv\\Lib\\site-packages\\urllib3\\connection.py:704\u001b[39m, in \u001b[36mHTTPSConnection.connect\u001b[39m\u001b[34m(self)\u001b[39m\n\u001b[32m    703\u001b[39m sock: socket.socket | ssl.SSLSocket\n\u001b[32m--> \u001b[39m\u001b[32m704\u001b[39m \u001b[38;5;28mself\u001b[39m.sock = sock = \u001b[38;5;28;43mself\u001b[39;49m\u001b[43m.\u001b[49m\u001b[43m_new_conn\u001b[49m\u001b[43m(\u001b[49m\u001b[43m)\u001b[49m\n\u001b[32m    705\u001b[39m server_hostname: \u001b[38;5;28mstr\u001b[39m = \u001b[38;5;28mself\u001b[39m.host\n",
      "\u001b[36mFile \u001b[39m\u001b[32md:\\ujjwal\\Building-LLMs-for-Production\\.venv\\Lib\\site-packages\\urllib3\\connection.py:205\u001b[39m, in \u001b[36mHTTPConnection._new_conn\u001b[39m\u001b[34m(self)\u001b[39m\n\u001b[32m    204\u001b[39m \u001b[38;5;28;01mexcept\u001b[39;00m socket.gaierror \u001b[38;5;28;01mas\u001b[39;00m e:\n\u001b[32m--> \u001b[39m\u001b[32m205\u001b[39m     \u001b[38;5;28;01mraise\u001b[39;00m NameResolutionError(\u001b[38;5;28mself\u001b[39m.host, \u001b[38;5;28mself\u001b[39m, e) \u001b[38;5;28;01mfrom\u001b[39;00m\u001b[38;5;250m \u001b[39m\u001b[34;01me\u001b[39;00m\n\u001b[32m    206\u001b[39m \u001b[38;5;28;01mexcept\u001b[39;00m SocketTimeout \u001b[38;5;28;01mas\u001b[39;00m e:\n",
      "\u001b[31mNameResolutionError\u001b[39m: <urllib3.connection.HTTPSConnection object at 0x000001F8A7D3E710>: Failed to resolve 'www.kaggle.com' ([Errno 11001] getaddrinfo failed)",
      "\nThe above exception was the direct cause of the following exception:\n",
      "\u001b[31mMaxRetryError\u001b[39m                             Traceback (most recent call last)",
      "\u001b[36mFile \u001b[39m\u001b[32md:\\ujjwal\\Building-LLMs-for-Production\\.venv\\Lib\\site-packages\\requests\\adapters.py:667\u001b[39m, in \u001b[36mHTTPAdapter.send\u001b[39m\u001b[34m(self, request, stream, timeout, verify, cert, proxies)\u001b[39m\n\u001b[32m    666\u001b[39m \u001b[38;5;28;01mtry\u001b[39;00m:\n\u001b[32m--> \u001b[39m\u001b[32m667\u001b[39m     resp = \u001b[43mconn\u001b[49m\u001b[43m.\u001b[49m\u001b[43murlopen\u001b[49m\u001b[43m(\u001b[49m\n\u001b[32m    668\u001b[39m \u001b[43m        \u001b[49m\u001b[43mmethod\u001b[49m\u001b[43m=\u001b[49m\u001b[43mrequest\u001b[49m\u001b[43m.\u001b[49m\u001b[43mmethod\u001b[49m\u001b[43m,\u001b[49m\n\u001b[32m    669\u001b[39m \u001b[43m        \u001b[49m\u001b[43murl\u001b[49m\u001b[43m=\u001b[49m\u001b[43murl\u001b[49m\u001b[43m,\u001b[49m\n\u001b[32m    670\u001b[39m \u001b[43m        \u001b[49m\u001b[43mbody\u001b[49m\u001b[43m=\u001b[49m\u001b[43mrequest\u001b[49m\u001b[43m.\u001b[49m\u001b[43mbody\u001b[49m\u001b[43m,\u001b[49m\n\u001b[32m    671\u001b[39m \u001b[43m        \u001b[49m\u001b[43mheaders\u001b[49m\u001b[43m=\u001b[49m\u001b[43mrequest\u001b[49m\u001b[43m.\u001b[49m\u001b[43mheaders\u001b[49m\u001b[43m,\u001b[49m\n\u001b[32m    672\u001b[39m \u001b[43m        \u001b[49m\u001b[43mredirect\u001b[49m\u001b[43m=\u001b[49m\u001b[38;5;28;43;01mFalse\u001b[39;49;00m\u001b[43m,\u001b[49m\n\u001b[32m    673\u001b[39m \u001b[43m        \u001b[49m\u001b[43massert_same_host\u001b[49m\u001b[43m=\u001b[49m\u001b[38;5;28;43;01mFalse\u001b[39;49;00m\u001b[43m,\u001b[49m\n\u001b[32m    674\u001b[39m \u001b[43m        \u001b[49m\u001b[43mpreload_content\u001b[49m\u001b[43m=\u001b[49m\u001b[38;5;28;43;01mFalse\u001b[39;49;00m\u001b[43m,\u001b[49m\n\u001b[32m    675\u001b[39m \u001b[43m        \u001b[49m\u001b[43mdecode_content\u001b[49m\u001b[43m=\u001b[49m\u001b[38;5;28;43;01mFalse\u001b[39;49;00m\u001b[43m,\u001b[49m\n\u001b[32m    676\u001b[39m \u001b[43m        \u001b[49m\u001b[43mretries\u001b[49m\u001b[43m=\u001b[49m\u001b[38;5;28;43mself\u001b[39;49m\u001b[43m.\u001b[49m\u001b[43mmax_retries\u001b[49m\u001b[43m,\u001b[49m\n\u001b[32m    677\u001b[39m \u001b[43m        \u001b[49m\u001b[43mtimeout\u001b[49m\u001b[43m=\u001b[49m\u001b[43mtimeout\u001b[49m\u001b[43m,\u001b[49m\n\u001b[32m    678\u001b[39m \u001b[43m        \u001b[49m\u001b[43mchunked\u001b[49m\u001b[43m=\u001b[49m\u001b[43mchunked\u001b[49m\u001b[43m,\u001b[49m\n\u001b[32m    679\u001b[39m \u001b[43m    \u001b[49m\u001b[43m)\u001b[49m\n\u001b[32m    681\u001b[39m \u001b[38;5;28;01mexcept\u001b[39;00m (ProtocolError, \u001b[38;5;167;01mOSError\u001b[39;00m) \u001b[38;5;28;01mas\u001b[39;00m err:\n",
      "\u001b[36mFile \u001b[39m\u001b[32md:\\ujjwal\\Building-LLMs-for-Production\\.venv\\Lib\\site-packages\\urllib3\\connectionpool.py:841\u001b[39m, in \u001b[36mHTTPConnectionPool.urlopen\u001b[39m\u001b[34m(self, method, url, body, headers, retries, redirect, assert_same_host, timeout, pool_timeout, release_conn, chunked, body_pos, preload_content, decode_content, **response_kw)\u001b[39m\n\u001b[32m    839\u001b[39m     new_e = ProtocolError(\u001b[33m\"\u001b[39m\u001b[33mConnection aborted.\u001b[39m\u001b[33m\"\u001b[39m, new_e)\n\u001b[32m--> \u001b[39m\u001b[32m841\u001b[39m retries = \u001b[43mretries\u001b[49m\u001b[43m.\u001b[49m\u001b[43mincrement\u001b[49m\u001b[43m(\u001b[49m\n\u001b[32m    842\u001b[39m \u001b[43m    \u001b[49m\u001b[43mmethod\u001b[49m\u001b[43m,\u001b[49m\u001b[43m \u001b[49m\u001b[43murl\u001b[49m\u001b[43m,\u001b[49m\u001b[43m \u001b[49m\u001b[43merror\u001b[49m\u001b[43m=\u001b[49m\u001b[43mnew_e\u001b[49m\u001b[43m,\u001b[49m\u001b[43m \u001b[49m\u001b[43m_pool\u001b[49m\u001b[43m=\u001b[49m\u001b[38;5;28;43mself\u001b[39;49m\u001b[43m,\u001b[49m\u001b[43m \u001b[49m\u001b[43m_stacktrace\u001b[49m\u001b[43m=\u001b[49m\u001b[43msys\u001b[49m\u001b[43m.\u001b[49m\u001b[43mexc_info\u001b[49m\u001b[43m(\u001b[49m\u001b[43m)\u001b[49m\u001b[43m[\u001b[49m\u001b[32;43m2\u001b[39;49m\u001b[43m]\u001b[49m\n\u001b[32m    843\u001b[39m \u001b[43m\u001b[49m\u001b[43m)\u001b[49m\n\u001b[32m    844\u001b[39m retries.sleep()\n",
      "\u001b[36mFile \u001b[39m\u001b[32md:\\ujjwal\\Building-LLMs-for-Production\\.venv\\Lib\\site-packages\\urllib3\\util\\retry.py:519\u001b[39m, in \u001b[36mRetry.increment\u001b[39m\u001b[34m(self, method, url, response, error, _pool, _stacktrace)\u001b[39m\n\u001b[32m    518\u001b[39m     reason = error \u001b[38;5;129;01mor\u001b[39;00m ResponseError(cause)\n\u001b[32m--> \u001b[39m\u001b[32m519\u001b[39m     \u001b[38;5;28;01mraise\u001b[39;00m MaxRetryError(_pool, url, reason) \u001b[38;5;28;01mfrom\u001b[39;00m\u001b[38;5;250m \u001b[39m\u001b[34;01mreason\u001b[39;00m  \u001b[38;5;66;03m# type: ignore[arg-type]\u001b[39;00m\n\u001b[32m    521\u001b[39m log.debug(\u001b[33m\"\u001b[39m\u001b[33mIncremented Retry for (url=\u001b[39m\u001b[33m'\u001b[39m\u001b[38;5;132;01m%s\u001b[39;00m\u001b[33m'\u001b[39m\u001b[33m): \u001b[39m\u001b[38;5;132;01m%r\u001b[39;00m\u001b[33m\"\u001b[39m, url, new_retry)\n",
      "\u001b[31mMaxRetryError\u001b[39m: HTTPSConnectionPool(host='www.kaggle.com', port=443): Max retries exceeded with url: /api/v1/datasets/view/rohan4050/movie-recommendation-data (Caused by NameResolutionError(\"<urllib3.connection.HTTPSConnection object at 0x000001F8A7D3E710>: Failed to resolve 'www.kaggle.com' ([Errno 11001] getaddrinfo failed)\"))",
      "\nDuring handling of the above exception, another exception occurred:\n",
      "\u001b[31mConnectionError\u001b[39m                           Traceback (most recent call last)",
      "\u001b[36mCell\u001b[39m\u001b[36m \u001b[39m\u001b[32mIn[172]\u001b[39m\u001b[32m, line 4\u001b[39m\n\u001b[32m      1\u001b[39m \u001b[38;5;28;01mimport\u001b[39;00m\u001b[38;5;250m \u001b[39m\u001b[34;01mkagglehub\u001b[39;00m\n\u001b[32m      3\u001b[39m \u001b[38;5;66;03m# Download latest version\u001b[39;00m\n\u001b[32m----> \u001b[39m\u001b[32m4\u001b[39m path = \u001b[43mkagglehub\u001b[49m\u001b[43m.\u001b[49m\u001b[43mdataset_download\u001b[49m\u001b[43m(\u001b[49m\u001b[33;43m\"\u001b[39;49m\u001b[33;43mrohan4050/movie-recommendation-data\u001b[39;49m\u001b[33;43m\"\u001b[39;49m\u001b[43m)\u001b[49m\n",
      "\u001b[36mFile \u001b[39m\u001b[32md:\\ujjwal\\Building-LLMs-for-Production\\.venv\\Lib\\site-packages\\kagglehub\\datasets.py:43\u001b[39m, in \u001b[36mdataset_download\u001b[39m\u001b[34m(handle, path, force_download)\u001b[39m\n\u001b[32m     41\u001b[39m h = parse_dataset_handle(handle)\n\u001b[32m     42\u001b[39m logger.info(\u001b[33mf\u001b[39m\u001b[33m\"\u001b[39m\u001b[33mDownloading Dataset: \u001b[39m\u001b[38;5;132;01m{\u001b[39;00mh.to_url()\u001b[38;5;132;01m}\u001b[39;00m\u001b[33m ...\u001b[39m\u001b[33m\"\u001b[39m, extra={**EXTRA_CONSOLE_BLOCK})\n\u001b[32m---> \u001b[39m\u001b[32m43\u001b[39m path, _ = \u001b[43mregistry\u001b[49m\u001b[43m.\u001b[49m\u001b[43mdataset_resolver\u001b[49m\u001b[43m(\u001b[49m\u001b[43mh\u001b[49m\u001b[43m,\u001b[49m\u001b[43m \u001b[49m\u001b[43mpath\u001b[49m\u001b[43m,\u001b[49m\u001b[43m \u001b[49m\u001b[43mforce_download\u001b[49m\u001b[43m=\u001b[49m\u001b[43mforce_download\u001b[49m\u001b[43m)\u001b[49m\n\u001b[32m     44\u001b[39m \u001b[38;5;28;01mreturn\u001b[39;00m path\n",
      "\u001b[36mFile \u001b[39m\u001b[32md:\\ujjwal\\Building-LLMs-for-Production\\.venv\\Lib\\site-packages\\kagglehub\\registry.py:28\u001b[39m, in \u001b[36mMultiImplRegistry.__call__\u001b[39m\u001b[34m(self, *args, **kwargs)\u001b[39m\n\u001b[32m     26\u001b[39m \u001b[38;5;28;01mfor\u001b[39;00m impl \u001b[38;5;129;01min\u001b[39;00m \u001b[38;5;28mreversed\u001b[39m(\u001b[38;5;28mself\u001b[39m._impls):\n\u001b[32m     27\u001b[39m     \u001b[38;5;28;01mif\u001b[39;00m impl.is_supported(*args, **kwargs):\n\u001b[32m---> \u001b[39m\u001b[32m28\u001b[39m         \u001b[38;5;28;01mreturn\u001b[39;00m \u001b[43mimpl\u001b[49m\u001b[43m(\u001b[49m\u001b[43m*\u001b[49m\u001b[43margs\u001b[49m\u001b[43m,\u001b[49m\u001b[43m \u001b[49m\u001b[43m*\u001b[49m\u001b[43m*\u001b[49m\u001b[43mkwargs\u001b[49m\u001b[43m)\u001b[49m\n\u001b[32m     29\u001b[39m     \u001b[38;5;28;01melse\u001b[39;00m:\n\u001b[32m     30\u001b[39m         fails.append(\u001b[38;5;28mtype\u001b[39m(impl).\u001b[34m__name__\u001b[39m)\n",
      "\u001b[36mFile \u001b[39m\u001b[32md:\\ujjwal\\Building-LLMs-for-Production\\.venv\\Lib\\site-packages\\kagglehub\\resolver.py:29\u001b[39m, in \u001b[36mResolver.__call__\u001b[39m\u001b[34m(self, handle, path, force_download)\u001b[39m\n\u001b[32m     15\u001b[39m \u001b[38;5;28;01mdef\u001b[39;00m\u001b[38;5;250m \u001b[39m\u001b[34m__call__\u001b[39m(\n\u001b[32m     16\u001b[39m     \u001b[38;5;28mself\u001b[39m, handle: T, path: Optional[\u001b[38;5;28mstr\u001b[39m] = \u001b[38;5;28;01mNone\u001b[39;00m, *, force_download: Optional[\u001b[38;5;28mbool\u001b[39m] = \u001b[38;5;28;01mFalse\u001b[39;00m\n\u001b[32m     17\u001b[39m ) -> \u001b[38;5;28mtuple\u001b[39m[\u001b[38;5;28mstr\u001b[39m, Optional[\u001b[38;5;28mint\u001b[39m]]:\n\u001b[32m     18\u001b[39m \u001b[38;5;250m    \u001b[39m\u001b[33;03m\"\"\"Resolves a handle into a path with the requested file(s) and the resource's version number.\u001b[39;00m\n\u001b[32m     19\u001b[39m \n\u001b[32m     20\u001b[39m \u001b[33;03m    Args:\u001b[39;00m\n\u001b[32m   (...)\u001b[39m\u001b[32m     27\u001b[39m \u001b[33;03m        Some cases where version number might be missing: Competition datasource, API-based models.\u001b[39;00m\n\u001b[32m     28\u001b[39m \u001b[33;03m    \"\"\"\u001b[39;00m\n\u001b[32m---> \u001b[39m\u001b[32m29\u001b[39m     path, version = \u001b[38;5;28;43mself\u001b[39;49m\u001b[43m.\u001b[49m\u001b[43m_resolve\u001b[49m\u001b[43m(\u001b[49m\u001b[43mhandle\u001b[49m\u001b[43m,\u001b[49m\u001b[43m \u001b[49m\u001b[43mpath\u001b[49m\u001b[43m,\u001b[49m\u001b[43m \u001b[49m\u001b[43mforce_download\u001b[49m\u001b[43m=\u001b[49m\u001b[43mforce_download\u001b[49m\u001b[43m)\u001b[49m\n\u001b[32m     31\u001b[39m     \u001b[38;5;66;03m# Note handles are immutable, so _resolve() could not have altered our reference\u001b[39;00m\n\u001b[32m     32\u001b[39m     register_datasource_access(handle, version)\n",
      "\u001b[36mFile \u001b[39m\u001b[32md:\\ujjwal\\Building-LLMs-for-Production\\.venv\\Lib\\site-packages\\kagglehub\\http_resolver.py:107\u001b[39m, in \u001b[36mDatasetHttpResolver._resolve\u001b[39m\u001b[34m(self, h, path, force_download)\u001b[39m\n\u001b[32m    104\u001b[39m api_client = KaggleApiV1Client()\n\u001b[32m    106\u001b[39m \u001b[38;5;28;01mif\u001b[39;00m \u001b[38;5;129;01mnot\u001b[39;00m h.is_versioned():\n\u001b[32m--> \u001b[39m\u001b[32m107\u001b[39m     h = h.with_version(\u001b[43m_get_current_version\u001b[49m\u001b[43m(\u001b[49m\u001b[43mapi_client\u001b[49m\u001b[43m,\u001b[49m\u001b[43m \u001b[49m\u001b[43mh\u001b[49m\u001b[43m)\u001b[49m)\n\u001b[32m    109\u001b[39m dataset_path = load_from_cache(h, path)\n\u001b[32m    110\u001b[39m \u001b[38;5;28;01mif\u001b[39;00m dataset_path \u001b[38;5;129;01mand\u001b[39;00m \u001b[38;5;129;01mnot\u001b[39;00m force_download:\n",
      "\u001b[36mFile \u001b[39m\u001b[32md:\\ujjwal\\Building-LLMs-for-Production\\.venv\\Lib\\site-packages\\kagglehub\\http_resolver.py:290\u001b[39m, in \u001b[36m_get_current_version\u001b[39m\u001b[34m(api_client, h)\u001b[39m\n\u001b[32m    287\u001b[39m     \u001b[38;5;28;01mreturn\u001b[39;00m json_response[MODEL_INSTANCE_VERSION_FIELD]\n\u001b[32m    289\u001b[39m \u001b[38;5;28;01melif\u001b[39;00m \u001b[38;5;28misinstance\u001b[39m(h, DatasetHandle):\n\u001b[32m--> \u001b[39m\u001b[32m290\u001b[39m     json_response = \u001b[43mapi_client\u001b[49m\u001b[43m.\u001b[49m\u001b[43mget\u001b[49m\u001b[43m(\u001b[49m\u001b[43m_build_get_dataset_url_path\u001b[49m\u001b[43m(\u001b[49m\u001b[43mh\u001b[49m\u001b[43m)\u001b[49m\u001b[43m,\u001b[49m\u001b[43m \u001b[49m\u001b[43mh\u001b[49m\u001b[43m)\u001b[49m\n\u001b[32m    291\u001b[39m     \u001b[38;5;28;01mif\u001b[39;00m DATASET_CURRENT_VERSION_FIELD \u001b[38;5;129;01mnot\u001b[39;00m \u001b[38;5;129;01min\u001b[39;00m json_response:\n\u001b[32m    292\u001b[39m         msg = \u001b[33mf\u001b[39m\u001b[33m\"\u001b[39m\u001b[33mInvalid GetDataset API response. Expected to include a \u001b[39m\u001b[38;5;132;01m{\u001b[39;00mDATASET_CURRENT_VERSION_FIELD\u001b[38;5;132;01m}\u001b[39;00m\u001b[33m field\u001b[39m\u001b[33m\"\u001b[39m\n",
      "\u001b[36mFile \u001b[39m\u001b[32md:\\ujjwal\\Building-LLMs-for-Production\\.venv\\Lib\\site-packages\\kagglehub\\clients.py:133\u001b[39m, in \u001b[36mKaggleApiV1Client.get\u001b[39m\u001b[34m(self, path, resource_handle)\u001b[39m\n\u001b[32m    131\u001b[39m \u001b[38;5;28;01mdef\u001b[39;00m\u001b[38;5;250m \u001b[39m\u001b[34mget\u001b[39m(\u001b[38;5;28mself\u001b[39m, path: \u001b[38;5;28mstr\u001b[39m, resource_handle: Optional[ResourceHandle] = \u001b[38;5;28;01mNone\u001b[39;00m) -> \u001b[38;5;28mdict\u001b[39m:\n\u001b[32m    132\u001b[39m     url = \u001b[38;5;28mself\u001b[39m._build_url(path)\n\u001b[32m--> \u001b[39m\u001b[32m133\u001b[39m     \u001b[38;5;28;01mwith\u001b[39;00m \u001b[43mrequests\u001b[49m\u001b[43m.\u001b[49m\u001b[43mget\u001b[49m\u001b[43m(\u001b[49m\n\u001b[32m    134\u001b[39m \u001b[43m        \u001b[49m\u001b[43murl\u001b[49m\u001b[43m,\u001b[49m\n\u001b[32m    135\u001b[39m \u001b[43m        \u001b[49m\u001b[43mheaders\u001b[49m\u001b[43m=\u001b[49m\u001b[43m{\u001b[49m\u001b[33;43m\"\u001b[39;49m\u001b[33;43mUser-Agent\u001b[39;49m\u001b[33;43m\"\u001b[39;49m\u001b[43m:\u001b[49m\u001b[43m \u001b[49m\u001b[43mget_user_agent\u001b[49m\u001b[43m(\u001b[49m\u001b[43m)\u001b[49m\u001b[43m}\u001b[49m\u001b[43m,\u001b[49m\n\u001b[32m    136\u001b[39m \u001b[43m        \u001b[49m\u001b[43mauth\u001b[49m\u001b[43m=\u001b[49m\u001b[38;5;28;43mself\u001b[39;49m\u001b[43m.\u001b[49m\u001b[43m_get_auth\u001b[49m\u001b[43m(\u001b[49m\u001b[43m)\u001b[49m\u001b[43m,\u001b[49m\n\u001b[32m    137\u001b[39m \u001b[43m        \u001b[49m\u001b[43mtimeout\u001b[49m\u001b[43m=\u001b[49m\u001b[43m(\u001b[49m\u001b[43mDEFAULT_CONNECT_TIMEOUT\u001b[49m\u001b[43m,\u001b[49m\u001b[43m \u001b[49m\u001b[43mDEFAULT_READ_TIMEOUT\u001b[49m\u001b[43m)\u001b[49m\u001b[43m,\u001b[49m\n\u001b[32m    138\u001b[39m \u001b[43m    \u001b[49m\u001b[43m)\u001b[49m \u001b[38;5;28;01mas\u001b[39;00m response:\n\u001b[32m    139\u001b[39m         kaggle_api_raise_for_status(response, resource_handle)\n\u001b[32m    140\u001b[39m         \u001b[38;5;28mself\u001b[39m._check_for_version_update(response)\n",
      "\u001b[36mFile \u001b[39m\u001b[32md:\\ujjwal\\Building-LLMs-for-Production\\.venv\\Lib\\site-packages\\requests\\api.py:73\u001b[39m, in \u001b[36mget\u001b[39m\u001b[34m(url, params, **kwargs)\u001b[39m\n\u001b[32m     62\u001b[39m \u001b[38;5;28;01mdef\u001b[39;00m\u001b[38;5;250m \u001b[39m\u001b[34mget\u001b[39m(url, params=\u001b[38;5;28;01mNone\u001b[39;00m, **kwargs):\n\u001b[32m     63\u001b[39m \u001b[38;5;250m    \u001b[39m\u001b[33mr\u001b[39m\u001b[33;03m\"\"\"Sends a GET request.\u001b[39;00m\n\u001b[32m     64\u001b[39m \n\u001b[32m     65\u001b[39m \u001b[33;03m    :param url: URL for the new :class:`Request` object.\u001b[39;00m\n\u001b[32m   (...)\u001b[39m\u001b[32m     70\u001b[39m \u001b[33;03m    :rtype: requests.Response\u001b[39;00m\n\u001b[32m     71\u001b[39m \u001b[33;03m    \"\"\"\u001b[39;00m\n\u001b[32m---> \u001b[39m\u001b[32m73\u001b[39m     \u001b[38;5;28;01mreturn\u001b[39;00m \u001b[43mrequest\u001b[49m\u001b[43m(\u001b[49m\u001b[33;43m\"\u001b[39;49m\u001b[33;43mget\u001b[39;49m\u001b[33;43m\"\u001b[39;49m\u001b[43m,\u001b[49m\u001b[43m \u001b[49m\u001b[43murl\u001b[49m\u001b[43m,\u001b[49m\u001b[43m \u001b[49m\u001b[43mparams\u001b[49m\u001b[43m=\u001b[49m\u001b[43mparams\u001b[49m\u001b[43m,\u001b[49m\u001b[43m \u001b[49m\u001b[43m*\u001b[49m\u001b[43m*\u001b[49m\u001b[43mkwargs\u001b[49m\u001b[43m)\u001b[49m\n",
      "\u001b[36mFile \u001b[39m\u001b[32md:\\ujjwal\\Building-LLMs-for-Production\\.venv\\Lib\\site-packages\\requests\\api.py:59\u001b[39m, in \u001b[36mrequest\u001b[39m\u001b[34m(method, url, **kwargs)\u001b[39m\n\u001b[32m     55\u001b[39m \u001b[38;5;66;03m# By using the 'with' statement we are sure the session is closed, thus we\u001b[39;00m\n\u001b[32m     56\u001b[39m \u001b[38;5;66;03m# avoid leaving sockets open which can trigger a ResourceWarning in some\u001b[39;00m\n\u001b[32m     57\u001b[39m \u001b[38;5;66;03m# cases, and look like a memory leak in others.\u001b[39;00m\n\u001b[32m     58\u001b[39m \u001b[38;5;28;01mwith\u001b[39;00m sessions.Session() \u001b[38;5;28;01mas\u001b[39;00m session:\n\u001b[32m---> \u001b[39m\u001b[32m59\u001b[39m     \u001b[38;5;28;01mreturn\u001b[39;00m \u001b[43msession\u001b[49m\u001b[43m.\u001b[49m\u001b[43mrequest\u001b[49m\u001b[43m(\u001b[49m\u001b[43mmethod\u001b[49m\u001b[43m=\u001b[49m\u001b[43mmethod\u001b[49m\u001b[43m,\u001b[49m\u001b[43m \u001b[49m\u001b[43murl\u001b[49m\u001b[43m=\u001b[49m\u001b[43murl\u001b[49m\u001b[43m,\u001b[49m\u001b[43m \u001b[49m\u001b[43m*\u001b[49m\u001b[43m*\u001b[49m\u001b[43mkwargs\u001b[49m\u001b[43m)\u001b[49m\n",
      "\u001b[36mFile \u001b[39m\u001b[32md:\\ujjwal\\Building-LLMs-for-Production\\.venv\\Lib\\site-packages\\requests\\sessions.py:589\u001b[39m, in \u001b[36mSession.request\u001b[39m\u001b[34m(self, method, url, params, data, headers, cookies, files, auth, timeout, allow_redirects, proxies, hooks, stream, verify, cert, json)\u001b[39m\n\u001b[32m    584\u001b[39m send_kwargs = {\n\u001b[32m    585\u001b[39m     \u001b[33m\"\u001b[39m\u001b[33mtimeout\u001b[39m\u001b[33m\"\u001b[39m: timeout,\n\u001b[32m    586\u001b[39m     \u001b[33m\"\u001b[39m\u001b[33mallow_redirects\u001b[39m\u001b[33m\"\u001b[39m: allow_redirects,\n\u001b[32m    587\u001b[39m }\n\u001b[32m    588\u001b[39m send_kwargs.update(settings)\n\u001b[32m--> \u001b[39m\u001b[32m589\u001b[39m resp = \u001b[38;5;28;43mself\u001b[39;49m\u001b[43m.\u001b[49m\u001b[43msend\u001b[49m\u001b[43m(\u001b[49m\u001b[43mprep\u001b[49m\u001b[43m,\u001b[49m\u001b[43m \u001b[49m\u001b[43m*\u001b[49m\u001b[43m*\u001b[49m\u001b[43msend_kwargs\u001b[49m\u001b[43m)\u001b[49m\n\u001b[32m    591\u001b[39m \u001b[38;5;28;01mreturn\u001b[39;00m resp\n",
      "\u001b[36mFile \u001b[39m\u001b[32md:\\ujjwal\\Building-LLMs-for-Production\\.venv\\Lib\\site-packages\\requests\\sessions.py:703\u001b[39m, in \u001b[36mSession.send\u001b[39m\u001b[34m(self, request, **kwargs)\u001b[39m\n\u001b[32m    700\u001b[39m start = preferred_clock()\n\u001b[32m    702\u001b[39m \u001b[38;5;66;03m# Send the request\u001b[39;00m\n\u001b[32m--> \u001b[39m\u001b[32m703\u001b[39m r = \u001b[43madapter\u001b[49m\u001b[43m.\u001b[49m\u001b[43msend\u001b[49m\u001b[43m(\u001b[49m\u001b[43mrequest\u001b[49m\u001b[43m,\u001b[49m\u001b[43m \u001b[49m\u001b[43m*\u001b[49m\u001b[43m*\u001b[49m\u001b[43mkwargs\u001b[49m\u001b[43m)\u001b[49m\n\u001b[32m    705\u001b[39m \u001b[38;5;66;03m# Total elapsed time of the request (approximately)\u001b[39;00m\n\u001b[32m    706\u001b[39m elapsed = preferred_clock() - start\n",
      "\u001b[36mFile \u001b[39m\u001b[32md:\\ujjwal\\Building-LLMs-for-Production\\.venv\\Lib\\site-packages\\requests\\adapters.py:700\u001b[39m, in \u001b[36mHTTPAdapter.send\u001b[39m\u001b[34m(self, request, stream, timeout, verify, cert, proxies)\u001b[39m\n\u001b[32m    696\u001b[39m     \u001b[38;5;28;01mif\u001b[39;00m \u001b[38;5;28misinstance\u001b[39m(e.reason, _SSLError):\n\u001b[32m    697\u001b[39m         \u001b[38;5;66;03m# This branch is for urllib3 v1.22 and later.\u001b[39;00m\n\u001b[32m    698\u001b[39m         \u001b[38;5;28;01mraise\u001b[39;00m SSLError(e, request=request)\n\u001b[32m--> \u001b[39m\u001b[32m700\u001b[39m     \u001b[38;5;28;01mraise\u001b[39;00m \u001b[38;5;167;01mConnectionError\u001b[39;00m(e, request=request)\n\u001b[32m    702\u001b[39m \u001b[38;5;28;01mexcept\u001b[39;00m ClosedPoolError \u001b[38;5;28;01mas\u001b[39;00m e:\n\u001b[32m    703\u001b[39m     \u001b[38;5;28;01mraise\u001b[39;00m \u001b[38;5;167;01mConnectionError\u001b[39;00m(e, request=request)\n",
      "\u001b[31mConnectionError\u001b[39m: HTTPSConnectionPool(host='www.kaggle.com', port=443): Max retries exceeded with url: /api/v1/datasets/view/rohan4050/movie-recommendation-data (Caused by NameResolutionError(\"<urllib3.connection.HTTPSConnection object at 0x000001F8A7D3E710>: Failed to resolve 'www.kaggle.com' ([Errno 11001] getaddrinfo failed)\"))"
     ]
    }
   ],
   "source": [
    "import kagglehub\n",
    "\n",
    "# Download latest version\n",
    "path = kagglehub.dataset_download(\"rohan4050/movie-recommendation-data\")"
   ]
  },
  {
   "cell_type": "markdown",
   "id": "9b2e5ff8",
   "metadata": {},
   "source": [
    "The reason for using a dataset with a textual description of each movie (alongside information such as ratings and movie titles) is so that we can get the embeddings of the text"
   ]
  },
  {
   "cell_type": "markdown",
   "id": "5d2939f0",
   "metadata": {},
   "source": [
    "## Data Preprocessing "
   ]
  },
  {
   "cell_type": "markdown",
   "id": "ce12ed6b",
   "metadata": {},
   "source": [
    " dataset we are using\n",
    "\n",
    "•\tGenres: A list of applicable genres for the movie.\n",
    "\n",
    "•\tTitle: The movie’s title.\n",
    "\n",
    "•\tOverview: Textual description of the plot.\n",
    "\n",
    "•\tVote_average: A rating from 1 to 10 for a given movie\n",
    "\n",
    "•\tVote_count: The number of votes for a given movie\n"
   ]
  },
  {
   "cell_type": "code",
   "execution_count": null,
   "id": "2c70b2ec",
   "metadata": {},
   "outputs": [],
   "source": [
    "import pandas as pd "
   ]
  },
  {
   "cell_type": "code",
   "execution_count": 173,
   "id": "7108580b",
   "metadata": {},
   "outputs": [
    {
     "name": "stderr",
     "output_type": "stream",
     "text": [
      "C:\\Users\\ujjwal\\AppData\\Local\\Temp\\ipykernel_1648\\2033083470.py:1: DtypeWarning: Columns (10) have mixed types. Specify dtype option on import or set low_memory=False.\n",
      "  df = pd.read_csv(r'data/movies_metadata.csv')\n"
     ]
    },
    {
     "data": {
      "text/html": [
       "<div>\n",
       "<style scoped>\n",
       "    .dataframe tbody tr th:only-of-type {\n",
       "        vertical-align: middle;\n",
       "    }\n",
       "\n",
       "    .dataframe tbody tr th {\n",
       "        vertical-align: top;\n",
       "    }\n",
       "\n",
       "    .dataframe thead th {\n",
       "        text-align: right;\n",
       "    }\n",
       "</style>\n",
       "<table border=\"1\" class=\"dataframe\">\n",
       "  <thead>\n",
       "    <tr style=\"text-align: right;\">\n",
       "      <th></th>\n",
       "      <th>adult</th>\n",
       "      <th>belongs_to_collection</th>\n",
       "      <th>budget</th>\n",
       "      <th>genres</th>\n",
       "      <th>homepage</th>\n",
       "      <th>id</th>\n",
       "      <th>imdb_id</th>\n",
       "      <th>original_language</th>\n",
       "      <th>original_title</th>\n",
       "      <th>overview</th>\n",
       "      <th>...</th>\n",
       "      <th>release_date</th>\n",
       "      <th>revenue</th>\n",
       "      <th>runtime</th>\n",
       "      <th>spoken_languages</th>\n",
       "      <th>status</th>\n",
       "      <th>tagline</th>\n",
       "      <th>title</th>\n",
       "      <th>video</th>\n",
       "      <th>vote_average</th>\n",
       "      <th>vote_count</th>\n",
       "    </tr>\n",
       "  </thead>\n",
       "  <tbody>\n",
       "    <tr>\n",
       "      <th>0</th>\n",
       "      <td>False</td>\n",
       "      <td>{'id': 10194, 'name': 'Toy Story Collection', ...</td>\n",
       "      <td>30000000</td>\n",
       "      <td>[{'id': 16, 'name': 'Animation'}, {'id': 35, '...</td>\n",
       "      <td>http://toystory.disney.com/toy-story</td>\n",
       "      <td>862</td>\n",
       "      <td>tt0114709</td>\n",
       "      <td>en</td>\n",
       "      <td>Toy Story</td>\n",
       "      <td>Led by Woody, Andy's toys live happily in his ...</td>\n",
       "      <td>...</td>\n",
       "      <td>1995-10-30</td>\n",
       "      <td>373554033.0</td>\n",
       "      <td>81.0</td>\n",
       "      <td>[{'iso_639_1': 'en', 'name': 'English'}]</td>\n",
       "      <td>Released</td>\n",
       "      <td>NaN</td>\n",
       "      <td>Toy Story</td>\n",
       "      <td>False</td>\n",
       "      <td>7.7</td>\n",
       "      <td>5415.0</td>\n",
       "    </tr>\n",
       "    <tr>\n",
       "      <th>1</th>\n",
       "      <td>False</td>\n",
       "      <td>NaN</td>\n",
       "      <td>65000000</td>\n",
       "      <td>[{'id': 12, 'name': 'Adventure'}, {'id': 14, '...</td>\n",
       "      <td>NaN</td>\n",
       "      <td>8844</td>\n",
       "      <td>tt0113497</td>\n",
       "      <td>en</td>\n",
       "      <td>Jumanji</td>\n",
       "      <td>When siblings Judy and Peter discover an encha...</td>\n",
       "      <td>...</td>\n",
       "      <td>1995-12-15</td>\n",
       "      <td>262797249.0</td>\n",
       "      <td>104.0</td>\n",
       "      <td>[{'iso_639_1': 'en', 'name': 'English'}, {'iso...</td>\n",
       "      <td>Released</td>\n",
       "      <td>Roll the dice and unleash the excitement!</td>\n",
       "      <td>Jumanji</td>\n",
       "      <td>False</td>\n",
       "      <td>6.9</td>\n",
       "      <td>2413.0</td>\n",
       "    </tr>\n",
       "    <tr>\n",
       "      <th>2</th>\n",
       "      <td>False</td>\n",
       "      <td>{'id': 119050, 'name': 'Grumpy Old Men Collect...</td>\n",
       "      <td>0</td>\n",
       "      <td>[{'id': 10749, 'name': 'Romance'}, {'id': 35, ...</td>\n",
       "      <td>NaN</td>\n",
       "      <td>15602</td>\n",
       "      <td>tt0113228</td>\n",
       "      <td>en</td>\n",
       "      <td>Grumpier Old Men</td>\n",
       "      <td>A family wedding reignites the ancient feud be...</td>\n",
       "      <td>...</td>\n",
       "      <td>1995-12-22</td>\n",
       "      <td>0.0</td>\n",
       "      <td>101.0</td>\n",
       "      <td>[{'iso_639_1': 'en', 'name': 'English'}]</td>\n",
       "      <td>Released</td>\n",
       "      <td>Still Yelling. Still Fighting. Still Ready for...</td>\n",
       "      <td>Grumpier Old Men</td>\n",
       "      <td>False</td>\n",
       "      <td>6.5</td>\n",
       "      <td>92.0</td>\n",
       "    </tr>\n",
       "    <tr>\n",
       "      <th>3</th>\n",
       "      <td>False</td>\n",
       "      <td>NaN</td>\n",
       "      <td>16000000</td>\n",
       "      <td>[{'id': 35, 'name': 'Comedy'}, {'id': 18, 'nam...</td>\n",
       "      <td>NaN</td>\n",
       "      <td>31357</td>\n",
       "      <td>tt0114885</td>\n",
       "      <td>en</td>\n",
       "      <td>Waiting to Exhale</td>\n",
       "      <td>Cheated on, mistreated and stepped on, the wom...</td>\n",
       "      <td>...</td>\n",
       "      <td>1995-12-22</td>\n",
       "      <td>81452156.0</td>\n",
       "      <td>127.0</td>\n",
       "      <td>[{'iso_639_1': 'en', 'name': 'English'}]</td>\n",
       "      <td>Released</td>\n",
       "      <td>Friends are the people who let you be yourself...</td>\n",
       "      <td>Waiting to Exhale</td>\n",
       "      <td>False</td>\n",
       "      <td>6.1</td>\n",
       "      <td>34.0</td>\n",
       "    </tr>\n",
       "    <tr>\n",
       "      <th>4</th>\n",
       "      <td>False</td>\n",
       "      <td>{'id': 96871, 'name': 'Father of the Bride Col...</td>\n",
       "      <td>0</td>\n",
       "      <td>[{'id': 35, 'name': 'Comedy'}]</td>\n",
       "      <td>NaN</td>\n",
       "      <td>11862</td>\n",
       "      <td>tt0113041</td>\n",
       "      <td>en</td>\n",
       "      <td>Father of the Bride Part II</td>\n",
       "      <td>Just when George Banks has recovered from his ...</td>\n",
       "      <td>...</td>\n",
       "      <td>1995-02-10</td>\n",
       "      <td>76578911.0</td>\n",
       "      <td>106.0</td>\n",
       "      <td>[{'iso_639_1': 'en', 'name': 'English'}]</td>\n",
       "      <td>Released</td>\n",
       "      <td>Just When His World Is Back To Normal... He's ...</td>\n",
       "      <td>Father of the Bride Part II</td>\n",
       "      <td>False</td>\n",
       "      <td>5.7</td>\n",
       "      <td>173.0</td>\n",
       "    </tr>\n",
       "  </tbody>\n",
       "</table>\n",
       "<p>5 rows × 24 columns</p>\n",
       "</div>"
      ],
      "text/plain": [
       "   adult                              belongs_to_collection    budget  \\\n",
       "0  False  {'id': 10194, 'name': 'Toy Story Collection', ...  30000000   \n",
       "1  False                                                NaN  65000000   \n",
       "2  False  {'id': 119050, 'name': 'Grumpy Old Men Collect...         0   \n",
       "3  False                                                NaN  16000000   \n",
       "4  False  {'id': 96871, 'name': 'Father of the Bride Col...         0   \n",
       "\n",
       "                                              genres  \\\n",
       "0  [{'id': 16, 'name': 'Animation'}, {'id': 35, '...   \n",
       "1  [{'id': 12, 'name': 'Adventure'}, {'id': 14, '...   \n",
       "2  [{'id': 10749, 'name': 'Romance'}, {'id': 35, ...   \n",
       "3  [{'id': 35, 'name': 'Comedy'}, {'id': 18, 'nam...   \n",
       "4                     [{'id': 35, 'name': 'Comedy'}]   \n",
       "\n",
       "                               homepage     id    imdb_id original_language  \\\n",
       "0  http://toystory.disney.com/toy-story    862  tt0114709                en   \n",
       "1                                   NaN   8844  tt0113497                en   \n",
       "2                                   NaN  15602  tt0113228                en   \n",
       "3                                   NaN  31357  tt0114885                en   \n",
       "4                                   NaN  11862  tt0113041                en   \n",
       "\n",
       "                original_title  \\\n",
       "0                    Toy Story   \n",
       "1                      Jumanji   \n",
       "2             Grumpier Old Men   \n",
       "3            Waiting to Exhale   \n",
       "4  Father of the Bride Part II   \n",
       "\n",
       "                                            overview  ... release_date  \\\n",
       "0  Led by Woody, Andy's toys live happily in his ...  ...   1995-10-30   \n",
       "1  When siblings Judy and Peter discover an encha...  ...   1995-12-15   \n",
       "2  A family wedding reignites the ancient feud be...  ...   1995-12-22   \n",
       "3  Cheated on, mistreated and stepped on, the wom...  ...   1995-12-22   \n",
       "4  Just when George Banks has recovered from his ...  ...   1995-02-10   \n",
       "\n",
       "       revenue runtime                                   spoken_languages  \\\n",
       "0  373554033.0    81.0           [{'iso_639_1': 'en', 'name': 'English'}]   \n",
       "1  262797249.0   104.0  [{'iso_639_1': 'en', 'name': 'English'}, {'iso...   \n",
       "2          0.0   101.0           [{'iso_639_1': 'en', 'name': 'English'}]   \n",
       "3   81452156.0   127.0           [{'iso_639_1': 'en', 'name': 'English'}]   \n",
       "4   76578911.0   106.0           [{'iso_639_1': 'en', 'name': 'English'}]   \n",
       "\n",
       "     status                                            tagline  \\\n",
       "0  Released                                                NaN   \n",
       "1  Released          Roll the dice and unleash the excitement!   \n",
       "2  Released  Still Yelling. Still Fighting. Still Ready for...   \n",
       "3  Released  Friends are the people who let you be yourself...   \n",
       "4  Released  Just When His World Is Back To Normal... He's ...   \n",
       "\n",
       "                         title  video vote_average vote_count  \n",
       "0                    Toy Story  False          7.7     5415.0  \n",
       "1                      Jumanji  False          6.9     2413.0  \n",
       "2             Grumpier Old Men  False          6.5       92.0  \n",
       "3            Waiting to Exhale  False          6.1       34.0  \n",
       "4  Father of the Bride Part II  False          5.7      173.0  \n",
       "\n",
       "[5 rows x 24 columns]"
      ]
     },
     "execution_count": 173,
     "metadata": {},
     "output_type": "execute_result"
    }
   ],
   "source": [
    "df = pd.read_csv(r'data/movies_metadata.csv')\n",
    "df.head()"
   ]
  },
  {
   "cell_type": "code",
   "execution_count": 174,
   "id": "2c4ad0d8",
   "metadata": {},
   "outputs": [
    {
     "data": {
      "text/plain": [
       "19649    [{'id': 99, 'name': 'Documentary'}]\n",
       "Name: genres, dtype: object"
      ]
     },
     "execution_count": 174,
     "metadata": {},
     "output_type": "execute_result"
    }
   ],
   "source": [
    "df['genres'].sample()"
   ]
  },
  {
   "cell_type": "code",
   "execution_count": 175,
   "id": "8a3ffcd6",
   "metadata": {},
   "outputs": [
    {
     "data": {
      "text/plain": [
       "\"[{'id': 16, 'name': 'Animation'}, {'id': 35, 'name': 'Comedy'}, {'id': 10751, 'name': 'Family'}]\""
      ]
     },
     "execution_count": 175,
     "metadata": {},
     "output_type": "execute_result"
    }
   ],
   "source": [
    "df['genres'][0]"
   ]
  },
  {
   "cell_type": "markdown",
   "id": "223ab0a5",
   "metadata": {},
   "source": [
    "the data is in list but in string format  like  \"[a , b ,c ]\"   so we use ast.literal_eval() \n",
    "\n",
    "ast.literal_eval is a function in Python that safely turns a string version of simple Python data (like lists, dictionaries, numbers, or strings) back into real Python objects.\n",
    "\n"
   ]
  },
  {
   "cell_type": "code",
   "execution_count": 176,
   "id": "c3842f95",
   "metadata": {},
   "outputs": [
    {
     "data": {
      "text/plain": [
       "[{'id': 16, 'name': 'Animation'},\n",
       " {'id': 35, 'name': 'Comedy'},\n",
       " {'id': 10751, 'name': 'Family'}]"
      ]
     },
     "execution_count": 176,
     "metadata": {},
     "output_type": "execute_result"
    }
   ],
   "source": [
    "import ast \n",
    "\n",
    "\n",
    "ast.literal_eval(df['genres'][0])"
   ]
  },
  {
   "cell_type": "code",
   "execution_count": 177,
   "id": "b01c8111",
   "metadata": {},
   "outputs": [],
   "source": [
    "## converting string representation of the dictionary to actual dictionaries\n",
    "df['genres'] = df['genres'].apply(ast.literal_eval)"
   ]
  },
  {
   "cell_type": "code",
   "execution_count": 178,
   "id": "f05005ec",
   "metadata": {},
   "outputs": [
    {
     "data": {
      "text/plain": [
       "0        [{'id': 16, 'name': 'Animation'}, {'id': 35, '...\n",
       "1        [{'id': 12, 'name': 'Adventure'}, {'id': 14, '...\n",
       "2        [{'id': 10749, 'name': 'Romance'}, {'id': 35, ...\n",
       "3        [{'id': 35, 'name': 'Comedy'}, {'id': 18, 'nam...\n",
       "4                           [{'id': 35, 'name': 'Comedy'}]\n",
       "                               ...                        \n",
       "45461    [{'id': 18, 'name': 'Drama'}, {'id': 10751, 'n...\n",
       "45462                        [{'id': 18, 'name': 'Drama'}]\n",
       "45463    [{'id': 28, 'name': 'Action'}, {'id': 18, 'nam...\n",
       "45464                                                   []\n",
       "45465                                                   []\n",
       "Name: genres, Length: 45466, dtype: object"
      ]
     },
     "execution_count": 178,
     "metadata": {},
     "output_type": "execute_result"
    }
   ],
   "source": [
    "#transforming  the geners column \n",
    "df['genres']"
   ]
  },
  {
   "cell_type": "markdown",
   "id": "e89fb922",
   "metadata": {},
   "source": [
    "### some has list fo id some gernes has only one gernes \n"
   ]
  },
  {
   "cell_type": "code",
   "execution_count": 179,
   "id": "f1ca2c7e",
   "metadata": {},
   "outputs": [
    {
     "data": {
      "text/plain": [
       "[{'id': 16, 'name': 'Animation'},\n",
       " {'id': 35, 'name': 'Comedy'},\n",
       " {'id': 10751, 'name': 'Family'}]"
      ]
     },
     "execution_count": 179,
     "metadata": {},
     "output_type": "execute_result"
    }
   ],
   "source": [
    "df['genres'][0]"
   ]
  },
  {
   "cell_type": "code",
   "execution_count": 180,
   "id": "c1c6ec2a",
   "metadata": {},
   "outputs": [
    {
     "data": {
      "text/plain": [
       "[{'id': 35, 'name': 'Comedy'}]"
      ]
     },
     "execution_count": 180,
     "metadata": {},
     "output_type": "execute_result"
    }
   ],
   "source": [
    "df['genres'][4]"
   ]
  },
  {
   "cell_type": "code",
   "execution_count": 181,
   "id": "f7700d12",
   "metadata": {},
   "outputs": [],
   "source": [
    "## extracting name from gernes \n",
    "\n",
    "df['genres'] = df['genres'].apply(lambda x: [geners['name'] for  geners in x ])"
   ]
  },
  {
   "cell_type": "code",
   "execution_count": 182,
   "id": "d678d3fd",
   "metadata": {},
   "outputs": [
    {
     "data": {
      "text/plain": [
       "0         [Animation, Comedy, Family]\n",
       "1        [Adventure, Fantasy, Family]\n",
       "2                   [Romance, Comedy]\n",
       "3            [Comedy, Drama, Romance]\n",
       "4                            [Comedy]\n",
       "                     ...             \n",
       "45461                 [Drama, Family]\n",
       "45462                         [Drama]\n",
       "45463       [Action, Drama, Thriller]\n",
       "45464                              []\n",
       "45465                              []\n",
       "Name: genres, Length: 45466, dtype: object"
      ]
     },
     "execution_count": 182,
     "metadata": {},
     "output_type": "execute_result"
    }
   ],
   "source": [
    "df['genres']"
   ]
  },
  {
   "cell_type": "markdown",
   "id": "557e9e1f",
   "metadata": {},
   "source": [
    "## Now merge vote average and vote count in single column "
   ]
  },
  {
   "cell_type": "code",
   "execution_count": 183,
   "id": "94776102",
   "metadata": {},
   "outputs": [
    {
     "data": {
      "text/plain": [
       "count    45460.000000\n",
       "mean       109.897338\n",
       "std        491.310374\n",
       "min          0.000000\n",
       "25%          3.000000\n",
       "50%         10.000000\n",
       "75%         34.000000\n",
       "max      14075.000000\n",
       "Name: vote_count, dtype: float64"
      ]
     },
     "execution_count": 183,
     "metadata": {},
     "output_type": "execute_result"
    }
   ],
   "source": [
    "df['vote_count'].describe()"
   ]
  },
  {
   "cell_type": "code",
   "execution_count": 184,
   "id": "815918ca",
   "metadata": {},
   "outputs": [
    {
     "data": {
      "text/plain": [
       "22529"
      ]
     },
     "execution_count": 184,
     "metadata": {},
     "output_type": "execute_result"
    }
   ],
   "source": [
    "(df['vote_count'] < 10).sum()"
   ]
  },
  {
   "cell_type": "code",
   "execution_count": 22,
   "id": "975f246b",
   "metadata": {},
   "outputs": [],
   "source": [
    "import matplotlib.pyplot as plt \n",
    "import seaborn as sns "
   ]
  },
  {
   "cell_type": "code",
   "execution_count": null,
   "id": "b0dc3d58",
   "metadata": {},
   "outputs": [],
   "source": []
  },
  {
   "cell_type": "code",
   "execution_count": 185,
   "id": "73376df3",
   "metadata": {},
   "outputs": [
    {
     "data": {
      "text/plain": [
       "109.89733831940167"
      ]
     },
     "execution_count": 185,
     "metadata": {},
     "output_type": "execute_result"
    }
   ],
   "source": [
    "df['vote_count'].mean()"
   ]
  },
  {
   "cell_type": "code",
   "execution_count": null,
   "id": "d7146fa1",
   "metadata": {},
   "outputs": [],
   "source": []
  },
  {
   "cell_type": "code",
   "execution_count": 186,
   "id": "7bbdd042",
   "metadata": {},
   "outputs": [
    {
     "data": {
      "text/plain": [
       "count    45460.000000\n",
       "mean       109.897338\n",
       "std        491.310374\n",
       "min          0.000000\n",
       "25%          3.000000\n",
       "50%         10.000000\n",
       "75%         34.000000\n",
       "max      14075.000000\n",
       "Name: vote_count, dtype: float64"
      ]
     },
     "execution_count": 186,
     "metadata": {},
     "output_type": "execute_result"
    }
   ],
   "source": [
    "df['vote_count'].describe()"
   ]
  },
  {
   "cell_type": "code",
   "execution_count": 187,
   "id": "f31bf69c",
   "metadata": {},
   "outputs": [
    {
     "data": {
      "text/plain": [
       "2899"
      ]
     },
     "execution_count": 187,
     "metadata": {},
     "output_type": "execute_result"
    }
   ],
   "source": [
    "(df['vote_count'] == 0).sum()"
   ]
  },
  {
   "cell_type": "code",
   "execution_count": 188,
   "id": "b36b3701",
   "metadata": {},
   "outputs": [],
   "source": [
    "md =df "
   ]
  },
  {
   "cell_type": "code",
   "execution_count": 189,
   "id": "fd02d00b",
   "metadata": {},
   "outputs": [
    {
     "data": {
      "text/plain": [
       "434.0"
      ]
     },
     "execution_count": 189,
     "metadata": {},
     "output_type": "execute_result"
    }
   ],
   "source": [
    "# Minimum vote count to prevent skewed results\n",
    "vote_counts = md[md['vote_count'].notnull()]['vote_count'].astype('int')\n",
    "min_vote_count = vote_counts.quantile(0.95)\n",
    "min_vote_count"
   ]
  },
  {
   "cell_type": "markdown",
   "id": "4d9c1324",
   "metadata": {},
   "source": [
    "so , basically  less vote(review) might get wrong prediction \n",
    "say only 1 person vote , and review 5 start that does't mean that moview good \n",
    "\n",
    "\n",
    "so from 90% quantile we get values , 434 which means , \n",
    "90% value are less than 434 which is our thresold also\n",
    "we are only considering reviews of moview above 160 votes "
   ]
  },
  {
   "cell_type": "code",
   "execution_count": 190,
   "id": "cbcb086a",
   "metadata": {},
   "outputs": [
    {
     "data": {
      "text/html": [
       "<div>\n",
       "<style scoped>\n",
       "    .dataframe tbody tr th:only-of-type {\n",
       "        vertical-align: middle;\n",
       "    }\n",
       "\n",
       "    .dataframe tbody tr th {\n",
       "        vertical-align: top;\n",
       "    }\n",
       "\n",
       "    .dataframe thead th {\n",
       "        text-align: right;\n",
       "    }\n",
       "</style>\n",
       "<table border=\"1\" class=\"dataframe\">\n",
       "  <thead>\n",
       "    <tr style=\"text-align: right;\">\n",
       "      <th></th>\n",
       "      <th>adult</th>\n",
       "      <th>belongs_to_collection</th>\n",
       "      <th>budget</th>\n",
       "      <th>genres</th>\n",
       "      <th>homepage</th>\n",
       "      <th>id</th>\n",
       "      <th>imdb_id</th>\n",
       "      <th>original_language</th>\n",
       "      <th>original_title</th>\n",
       "      <th>overview</th>\n",
       "      <th>...</th>\n",
       "      <th>release_date</th>\n",
       "      <th>revenue</th>\n",
       "      <th>runtime</th>\n",
       "      <th>spoken_languages</th>\n",
       "      <th>status</th>\n",
       "      <th>tagline</th>\n",
       "      <th>title</th>\n",
       "      <th>video</th>\n",
       "      <th>vote_average</th>\n",
       "      <th>vote_count</th>\n",
       "    </tr>\n",
       "  </thead>\n",
       "  <tbody>\n",
       "    <tr>\n",
       "      <th>4178</th>\n",
       "      <td>False</td>\n",
       "      <td>{'id': 2150, 'name': 'Shrek Collection', 'post...</td>\n",
       "      <td>60000000</td>\n",
       "      <td>[Adventure, Animation, Comedy, Family, Fantasy]</td>\n",
       "      <td>http://www.shrek.com/</td>\n",
       "      <td>808</td>\n",
       "      <td>tt0126029</td>\n",
       "      <td>en</td>\n",
       "      <td>Shrek</td>\n",
       "      <td>It ain't easy bein' green -- especially if you...</td>\n",
       "      <td>...</td>\n",
       "      <td>2001-05-16</td>\n",
       "      <td>484409218.0</td>\n",
       "      <td>90.0</td>\n",
       "      <td>[{'iso_639_1': 'en', 'name': 'English'}]</td>\n",
       "      <td>Released</td>\n",
       "      <td>The greatest fairy tale never told.</td>\n",
       "      <td>Shrek</td>\n",
       "      <td>False</td>\n",
       "      <td>7.3</td>\n",
       "      <td>4183.0</td>\n",
       "    </tr>\n",
       "  </tbody>\n",
       "</table>\n",
       "<p>1 rows × 24 columns</p>\n",
       "</div>"
      ],
      "text/plain": [
       "      adult                              belongs_to_collection    budget  \\\n",
       "4178  False  {'id': 2150, 'name': 'Shrek Collection', 'post...  60000000   \n",
       "\n",
       "                                               genres               homepage  \\\n",
       "4178  [Adventure, Animation, Comedy, Family, Fantasy]  http://www.shrek.com/   \n",
       "\n",
       "       id    imdb_id original_language original_title  \\\n",
       "4178  808  tt0126029                en          Shrek   \n",
       "\n",
       "                                               overview  ... release_date  \\\n",
       "4178  It ain't easy bein' green -- especially if you...  ...   2001-05-16   \n",
       "\n",
       "          revenue runtime                          spoken_languages    status  \\\n",
       "4178  484409218.0    90.0  [{'iso_639_1': 'en', 'name': 'English'}]  Released   \n",
       "\n",
       "                                  tagline  title  video vote_average  \\\n",
       "4178  The greatest fairy tale never told.  Shrek  False          7.3   \n",
       "\n",
       "     vote_count  \n",
       "4178     4183.0  \n",
       "\n",
       "[1 rows x 24 columns]"
      ]
     },
     "execution_count": 190,
     "metadata": {},
     "output_type": "execute_result"
    }
   ],
   "source": [
    "## moviews with more than 160 reviews\n",
    "df[df['vote_count'] > min_vote_count].sample()"
   ]
  },
  {
   "cell_type": "markdown",
   "id": "d517360f",
   "metadata": {},
   "source": [
    "IMDb moview rating formula \n"
   ]
  },
  {
   "cell_type": "code",
   "execution_count": 191,
   "id": "922695ed",
   "metadata": {},
   "outputs": [
    {
     "data": {
      "image/png": "[encoded data removed]",
      "text/plain": [
       "<IPython.core.display.Image object>"
      ]
     },
     "execution_count": 191,
     "metadata": {},
     "output_type": "execute_result"
    }
   ],
   "source": [
    "from IPython.display import Image \n",
    "Image(r'D:\\ujjwal\\recomdation_system_using_llm\\IMDb moview rating.png')"
   ]
  },
  {
   "cell_type": "code",
   "execution_count": 192,
   "id": "efe4a73b",
   "metadata": {},
   "outputs": [
    {
     "data": {
      "text/plain": [
       "5.618207215134185"
      ]
     },
     "execution_count": 192,
     "metadata": {},
     "output_type": "execute_result"
    }
   ],
   "source": [
    "df['vote_average'].mean() #gloable average "
   ]
  },
  {
   "cell_type": "code",
   "execution_count": 193,
   "id": "c82ecd37",
   "metadata": {},
   "outputs": [],
   "source": [
    "def weighted_rating(vote_count, vote_average, min_vote_count=160.0 , global_average = 5.6):\n",
    "    \"\"\"\n",
    "    vote_count: number of votes for the item (v)\n",
    "    vote_average: average rating of the item (R)\n",
    "    min_vote_count: minimum votes required to be listed (m)\n",
    "    global_average: mean vote across all items (C)\n",
    "    \n",
    "    Returns the Weighted Rating (WR).\n",
    "    \"\"\"\n",
    "    v = vote_count\n",
    "    R = vote_average\n",
    "    m = min_vote_count\n",
    "    C = global_average\n",
    "\n",
    "    return (v / (v + m) * R) + (m / (v + m) * C)\n"
   ]
  },
  {
   "cell_type": "code",
   "execution_count": 194,
   "id": "7852aa80",
   "metadata": {},
   "outputs": [
    {
     "data": {
      "text/plain": [
       "109.89733831940167"
      ]
     },
     "execution_count": 194,
     "metadata": {},
     "output_type": "execute_result"
    }
   ],
   "source": [
    "C= df['vote_count'].mean()\n",
    "C #gloable average"
   ]
  },
  {
   "cell_type": "code",
   "execution_count": 195,
   "id": "c09f118d",
   "metadata": {},
   "outputs": [
    {
     "data": {
      "text/plain": [
       "109.89733831940167"
      ]
     },
     "execution_count": 195,
     "metadata": {},
     "output_type": "execute_result"
    }
   ],
   "source": [
    "## new column 'weighted rate'\n",
    "\n",
    "df['vote_count']\n",
    "df['vote_average']\n",
    "\n",
    "C "
   ]
  },
  {
   "cell_type": "code",
   "execution_count": 196,
   "id": "5052f25c",
   "metadata": {},
   "outputs": [
    {
     "data": {
      "text/plain": [
       "count    45460.000000\n",
       "mean         5.709423\n",
       "std          0.314534\n",
       "min          3.580315\n",
       "25%          5.592593\n",
       "50%          5.617284\n",
       "75%          5.702924\n",
       "max          8.445527\n",
       "Name: weighted_rate, dtype: float64"
      ]
     },
     "execution_count": 196,
     "metadata": {},
     "output_type": "execute_result"
    }
   ],
   "source": [
    "\n",
    "\n",
    "df['weighted_rate'] = df.apply(lambda row:weighted_rating(row['vote_count'] , \n",
    "                                     row['vote_average'])  , axis= 1 )\n",
    "df['weighted_rate'].describe()"
   ]
  },
  {
   "cell_type": "code",
   "execution_count": 197,
   "id": "eb9e42b4",
   "metadata": {},
   "outputs": [
    {
     "data": {
      "text/plain": [
       "<Axes: ylabel='weighted_rate'>"
      ]
     },
     "execution_count": 197,
     "metadata": {},
     "output_type": "execute_result"
    },
    {
     "data": {
      "image/png": "[encoded data removed]",
      "text/plain": [
       "<Figure size 640x480 with 1 Axes>"
      ]
     },
     "metadata": {},
     "output_type": "display_data"
    }
   ],
   "source": [
    "sns.scatterplot(df['weighted_rate'])"
   ]
  },
  {
   "cell_type": "code",
   "execution_count": null,
   "id": "c8310dc3",
   "metadata": {},
   "outputs": [],
   "source": []
  },
  {
   "cell_type": "code",
   "execution_count": null,
   "id": "e31433a3",
   "metadata": {},
   "outputs": [],
   "source": []
  },
  {
   "cell_type": "code",
   "execution_count": null,
   "id": "53c2d1c8",
   "metadata": {},
   "outputs": [],
   "source": []
  },
  {
   "cell_type": "code",
   "execution_count": null,
   "id": "257aec71",
   "metadata": {},
   "outputs": [],
   "source": []
  },
  {
   "cell_type": "code",
   "execution_count": 198,
   "id": "9066963e",
   "metadata": {},
   "outputs": [],
   "source": [
    "## remove null\n",
    "df = df.dropna()"
   ]
  },
  {
   "cell_type": "code",
   "execution_count": 199,
   "id": "57965f75",
   "metadata": {},
   "outputs": [
    {
     "data": {
      "text/plain": [
       "Index(['adult', 'belongs_to_collection', 'budget', 'genres', 'homepage', 'id',\n",
       "       'imdb_id', 'original_language', 'original_title', 'overview',\n",
       "       'popularity', 'poster_path', 'production_companies',\n",
       "       'production_countries', 'release_date', 'revenue', 'runtime',\n",
       "       'spoken_languages', 'status', 'tagline', 'title', 'video',\n",
       "       'vote_average', 'vote_count', 'weighted_rate'],\n",
       "      dtype='object')"
      ]
     },
     "execution_count": 199,
     "metadata": {},
     "output_type": "execute_result"
    }
   ],
   "source": [
    "df.columns"
   ]
  },
  {
   "cell_type": "code",
   "execution_count": 200,
   "id": "2f1314ab",
   "metadata": {},
   "outputs": [],
   "source": [
    "df_final = df[['genres', 'title', 'overview', 'weighted_rate']].reset_index(drop=True)"
   ]
  },
  {
   "cell_type": "code",
   "execution_count": 201,
   "id": "6ca1d614",
   "metadata": {},
   "outputs": [
    {
     "data": {
      "text/plain": [
       "37411    [Comedy, Drama]\n",
       "16544    [Comedy, Drama]\n",
       "Name: genres, dtype: object"
      ]
     },
     "execution_count": 201,
     "metadata": {},
     "output_type": "execute_result"
    }
   ],
   "source": [
    "df['genres'].sample(2)"
   ]
  },
  {
   "cell_type": "code",
   "execution_count": 202,
   "id": "3b869638",
   "metadata": {},
   "outputs": [
    {
     "data": {
      "text/plain": [
       "2877     A criminal organization has obtained two nucle...\n",
       "38850    One year after outwitting the FBI and winning ...\n",
       "Name: overview, dtype: object"
      ]
     },
     "execution_count": 202,
     "metadata": {},
     "output_type": "execute_result"
    }
   ],
   "source": [
    "df['overview'].sample(2)"
   ]
  },
  {
   "cell_type": "code",
   "execution_count": 203,
   "id": "9e5105fc",
   "metadata": {},
   "outputs": [
    {
     "data": {
      "text/plain": [
       "11311                       Open Season\n",
       "26566    Guardians of the Galaxy Vol. 2\n",
       "Name: title, dtype: object"
      ]
     },
     "execution_count": 203,
     "metadata": {},
     "output_type": "execute_result"
    }
   ],
   "source": [
    "df['title'].sample(2)"
   ]
  },
  {
   "cell_type": "markdown",
   "id": "f502c94c",
   "metadata": {},
   "source": [
    "now we combine , title , overview and  gerne "
   ]
  },
  {
   "cell_type": "code",
   "execution_count": 204,
   "id": "6c7a181d",
   "metadata": {},
   "outputs": [
    {
     "data": {
      "text/plain": [
       "['Adventure', 'Action', 'Thriller']"
      ]
     },
     "execution_count": 204,
     "metadata": {},
     "output_type": "execute_result"
    }
   ],
   "source": [
    "df['genres'].iloc[0]"
   ]
  },
  {
   "cell_type": "code",
   "execution_count": 205,
   "id": "d8ed4e94",
   "metadata": {},
   "outputs": [
    {
     "data": {
      "text/plain": [
       "'Adventure, Action, Thriller'"
      ]
     },
     "execution_count": 205,
     "metadata": {},
     "output_type": "execute_result"
    }
   ],
   "source": [
    "', '.join(df['genres'].iloc[0])"
   ]
  },
  {
   "cell_type": "code",
   "execution_count": 206,
   "id": "e0958e1b",
   "metadata": {},
   "outputs": [
    {
     "name": "stdout",
     "output_type": "stream",
     "text": [
      "title    From Dusk Till Dawn\n",
      "overview:   Craig and Smokey are two guys in Los Angeles hanging out on their porch on a Friday afternoon, smoking and drinking, looking for something to do.\n",
      "review   Adventure, Action, Thriller\n"
     ]
    }
   ],
   "source": [
    "print('title    ' + df['title'].iloc[2] + '\\n' + 'overview:   ' + df['overview'].iloc[1]  + '\\n' +  'review   '+ str(', '.join(df['genres'].iloc[0])))"
   ]
  },
  {
   "cell_type": "code",
   "execution_count": 207,
   "id": "627c46f3",
   "metadata": {},
   "outputs": [
    {
     "data": {
      "text/plain": [
       "'Title: Jurassic Park. Overview: A wealthy entrepreneur secretly creates a theme park featuring living dinosaurs drawn from prehistoric DNA. Before opening day, he invites a team of experts and his two eager grandchildren to experience the park and help calm anxious investors. However, the park is anything but amusing as the security systems go off-line and the dinosaurs escape. Genres: Adventure, Science Fiction. Rating: 7.537451133698201'"
      ]
     },
     "execution_count": 207,
     "metadata": {},
     "output_type": "execute_result"
    }
   ],
   "source": [
    "## code \n",
    "df_final['combined_info'] = df_final.apply(lambda row: f\"Title: {row['title']}. Overview: {row['overview']} Genres: {', '.join(row['genres'])}. Rating: {row['weighted_rate']}\", axis=1)\n",
    "df_final['combined_info'][9]"
   ]
  },
  {
   "cell_type": "markdown",
   "id": "5de5bafe",
   "metadata": {},
   "source": [
    "for embedding and similarity serach , combied_info is what matters \n",
    "and \n",
    "for sort or filter recomdation after retrieving similar moviews keepign weighted rating is helpfull \n"
   ]
  },
  {
   "cell_type": "markdown",
   "id": "a37296cf",
   "metadata": {},
   "source": [
    "#### and also keeping , title  ,overview and  generes for ui (say user input by title or we gave output as this title and this overview so need these features)"
   ]
  },
  {
   "cell_type": "markdown",
   "id": "06734c1c",
   "metadata": {},
   "source": [
    "# EMbedding"
   ]
  },
  {
   "cell_type": "code",
   "execution_count": 208,
   "id": "9880700c",
   "metadata": {},
   "outputs": [],
   "source": [
    "import pandas as pd \n",
    "import tiktoken \n",
    "import os \n",
    "\n",
    "from transformers import AutoTokenizer, AutoModel "
   ]
  },
  {
   "cell_type": "code",
   "execution_count": 209,
   "id": "f4181b5d",
   "metadata": {},
   "outputs": [],
   "source": [
    "#chose a pretrained model tokenizer \n",
    "tokenizer=  AutoTokenizer.from_pretrained(\"sentence-transformers/all-MiniLM-L6-v2\")"
   ]
  },
  {
   "cell_type": "code",
   "execution_count": 211,
   "id": "3fec9ae4",
   "metadata": {},
   "outputs": [],
   "source": [
    "model = AutoModel.from_pretrained(\"sentence-transformers/all-MiniLM-L6-v2\")"
   ]
  },
  {
   "cell_type": "code",
   "execution_count": 212,
   "id": "c24ea618",
   "metadata": {},
   "outputs": [
    {
     "data": {
      "text/plain": [
       "{'input_ids': tensor([[  101,  7632,  2026,  2171,  2003,  1057,  3501,  3501, 13476,   102]]), 'token_type_ids': tensor([[0, 0, 0, 0, 0, 0, 0, 0, 0, 0]]), 'attention_mask': tensor([[1, 1, 1, 1, 1, 1, 1, 1, 1, 1]])}"
      ]
     },
     "execution_count": 212,
     "metadata": {},
     "output_type": "execute_result"
    }
   ],
   "source": [
    "import torch \n",
    "inputs = tokenizer(\"hi my name is ujjwal\", return_tensors= 'pt')\n",
    "inputs"
   ]
  },
  {
   "cell_type": "code",
   "execution_count": 51,
   "id": "e5599c3a",
   "metadata": {},
   "outputs": [],
   "source": [
    "with torch.no_grad():\n",
    "    output= model(**inputs)\n",
    "    "
   ]
  },
  {
   "cell_type": "code",
   "execution_count": 213,
   "id": "1d20cd3f",
   "metadata": {},
   "outputs": [
    {
     "data": {
      "text/plain": [
       "BaseModelOutputWithPoolingAndCrossAttentions(last_hidden_state=tensor([[[-0.1819,  0.4187, -0.0589,  ..., -0.1549, -0.3103,  0.0652],\n",
       "         [-0.5125,  0.2344, -0.0189,  ...,  0.9736, -0.3711,  0.6047],\n",
       "         [ 0.3135, -0.8175, -0.0487,  ...,  0.0615, -1.0657, -0.4187],\n",
       "         ...,\n",
       "         [-0.2377,  0.4097, -0.2198,  ...,  0.0014, -0.0956,  0.1823],\n",
       "         [-0.2346,  0.7368, -0.4079,  ..., -0.0323,  0.0841,  0.8296],\n",
       "         [-0.0122,  0.0890, -0.1920,  ..., -0.2752, -0.0266, -0.0849]]]), pooler_output=tensor([[-1.0156e-01, -3.5590e-02, -3.2717e-02,  1.0110e-01,  3.5727e-02,\n",
       "         -7.5193e-02,  4.4627e-02,  2.0956e-02, -1.3922e-01, -8.0553e-03,\n",
       "          3.9005e-02, -3.7775e-02, -2.3436e-02,  4.1138e-02, -1.0346e-02,\n",
       "          1.0084e-01,  1.3566e-01,  1.1601e-03, -2.1056e-02,  3.4974e-02,\n",
       "          1.0418e-02,  2.2966e-02, -8.2811e-03, -1.6013e-02,  6.4974e-02,\n",
       "          1.4338e-01,  2.3426e-03,  8.1440e-03, -4.0608e-02,  1.3062e-01,\n",
       "          3.9000e-02,  4.7141e-02, -1.0129e-01,  1.1898e-02, -5.9646e-03,\n",
       "         -4.8210e-02, -1.9305e-02,  1.1243e-01, -2.6755e-02, -1.8573e-02,\n",
       "          6.1738e-02, -1.0614e-02, -6.0404e-02,  1.3327e-01, -2.1199e-02,\n",
       "          1.1302e-02, -1.0972e-01,  1.6841e-02,  6.8917e-02,  2.4013e-02,\n",
       "         -6.9777e-02,  8.3099e-02, -3.5761e-02, -5.3867e-02, -4.2960e-02,\n",
       "          7.1524e-02,  1.0326e-01,  7.2685e-02,  2.7783e-04, -1.1488e-03,\n",
       "          1.4858e-02,  9.7200e-02, -1.3991e-02, -3.0151e-02, -1.1120e-01,\n",
       "          3.4530e-02, -1.0333e-01, -3.5902e-02,  5.9903e-03, -2.3873e-02,\n",
       "         -1.1023e-02, -2.5198e-02,  5.5601e-03,  1.8939e-02,  4.5392e-02,\n",
       "          6.4102e-02, -8.3190e-02, -1.9886e-02, -7.8697e-02,  7.0339e-02,\n",
       "          2.4295e-02,  5.4628e-02,  6.3422e-02, -7.7102e-02, -4.2033e-02,\n",
       "         -8.6589e-02, -1.3345e-01,  3.8097e-02, -6.3351e-02,  1.4801e-02,\n",
       "          6.6645e-02, -3.6479e-02, -2.0269e-01,  7.7089e-02,  1.1276e-01,\n",
       "         -4.0029e-03, -3.0748e-02, -5.4204e-02, -8.4888e-02, -1.1208e-01,\n",
       "          6.6386e-02, -3.5536e-02,  9.3657e-03,  8.0941e-02,  6.4480e-02,\n",
       "         -1.0807e-01, -5.4394e-02,  1.0139e-01, -2.5043e-02,  4.5470e-02,\n",
       "          5.0572e-03,  1.6180e-03,  1.0097e-01, -1.9911e-02, -4.3517e-02,\n",
       "          1.6531e-02,  1.6418e-02, -2.1993e-02, -1.1641e-01,  1.0224e-01,\n",
       "          1.6582e-01, -5.9095e-02,  8.4474e-02, -5.3257e-03,  1.3744e-02,\n",
       "         -5.9434e-02, -5.1631e-03, -2.8902e-02, -1.1792e-01, -7.5023e-02,\n",
       "          1.0989e-01, -7.2913e-02,  1.2268e-01, -3.9314e-02, -1.0170e-01,\n",
       "          4.6729e-02, -9.7361e-02, -2.5747e-02, -3.3823e-03,  6.5965e-02,\n",
       "          3.9169e-02, -1.7223e-01,  6.7039e-02, -6.3198e-02,  5.2257e-02,\n",
       "          1.3277e-02, -1.1956e-01, -1.7545e-01, -2.9133e-03, -2.8547e-02,\n",
       "          1.0851e-01, -5.9498e-02, -1.9617e-02,  1.1655e-01,  4.8689e-02,\n",
       "         -4.0234e-02,  2.3564e-02, -8.3134e-02, -2.5761e-02, -7.5252e-02,\n",
       "         -5.5226e-02, -4.8685e-02,  9.3960e-02, -4.3551e-02, -6.5871e-02,\n",
       "          3.9830e-02,  1.0012e-03, -8.1495e-03, -9.1787e-02, -2.7613e-02,\n",
       "          5.8694e-02,  2.2759e-02, -2.5967e-02, -4.4415e-02, -4.0517e-02,\n",
       "          1.0815e-02,  7.9501e-02, -7.9272e-02, -4.7341e-02,  1.8664e-02,\n",
       "          2.5545e-02, -3.6054e-02,  3.9322e-03, -9.7144e-02,  4.0208e-02,\n",
       "          8.9854e-02, -3.8455e-03,  7.0187e-02,  7.6073e-02,  8.4123e-03,\n",
       "         -6.9976e-02, -1.1687e-02,  4.9040e-02,  6.0304e-02,  7.8726e-02,\n",
       "         -1.1553e-02, -9.1747e-02,  2.0407e-04,  9.6829e-02, -4.7300e-02,\n",
       "          2.2221e-03,  9.6058e-02,  2.1840e-02,  2.7559e-02, -1.3557e-01,\n",
       "          1.0616e-02, -5.6554e-02, -1.0758e-01, -1.6700e-02, -3.0418e-02,\n",
       "          6.8914e-02, -9.0104e-04,  1.1016e-02, -6.4127e-02, -6.9583e-02,\n",
       "         -5.5859e-02,  1.0930e-01,  1.4322e-01,  1.5430e-01, -7.5832e-02,\n",
       "          7.2463e-02,  8.3114e-03, -1.2083e-02, -7.2089e-02, -1.2857e-01,\n",
       "         -4.5260e-02, -4.1243e-02, -4.3188e-02,  1.4693e-02,  7.4084e-02,\n",
       "          2.8866e-02, -1.4513e-02, -3.4046e-02,  1.3432e-01, -3.1994e-02,\n",
       "         -1.7888e-02, -5.9030e-02, -5.0253e-03,  2.2280e-02,  9.4180e-02,\n",
       "         -9.0066e-02,  1.2911e-01,  1.9496e-02,  5.0531e-02, -7.5759e-02,\n",
       "         -4.5889e-02,  1.3326e-01,  6.1013e-02, -1.2462e-02, -1.1159e-01,\n",
       "          4.2058e-02,  2.9317e-03, -4.9188e-02,  2.2712e-02, -1.1710e-01,\n",
       "          6.9090e-02,  5.8098e-03, -9.7698e-02,  7.5360e-02, -8.9412e-03,\n",
       "          4.7321e-02,  1.8521e-02, -4.2428e-02,  5.6552e-02, -3.8678e-02,\n",
       "         -4.3185e-02,  1.5589e-01, -4.6313e-02, -2.5824e-02, -1.1994e-01,\n",
       "          1.8731e-02,  5.6882e-02, -1.0477e-01,  6.5633e-02,  1.4149e-01,\n",
       "          7.3453e-02, -3.6006e-03, -6.0445e-02,  3.8426e-02, -2.9739e-02,\n",
       "         -3.8418e-02,  5.4922e-02,  6.5521e-02,  3.7259e-02,  9.5565e-02,\n",
       "          7.4076e-03,  3.6226e-02, -4.3401e-02,  6.1222e-02,  6.2510e-02,\n",
       "         -1.5100e-02,  8.6800e-03, -1.2218e-02, -5.8522e-02, -2.1270e-02,\n",
       "          4.0221e-02,  7.1891e-02,  1.1376e-01, -1.3663e-02,  4.6609e-03,\n",
       "         -2.0517e-02, -8.5921e-02,  1.1191e-01, -7.1822e-02, -3.3494e-03,\n",
       "         -4.1998e-02, -4.4724e-02, -1.0585e-02, -3.6496e-02,  3.6332e-02,\n",
       "          2.0097e-02, -2.6251e-02,  3.0708e-02,  3.5039e-02, -1.5057e-02,\n",
       "         -6.4890e-02,  3.9663e-02, -6.1467e-02,  5.5168e-03, -1.1857e-01,\n",
       "         -7.2306e-02, -9.6228e-02,  1.4085e-03,  1.5963e-01,  4.9471e-02,\n",
       "         -6.1281e-02, -1.2727e-03,  1.1675e-01, -4.3069e-02,  2.7932e-02,\n",
       "          4.1277e-02, -4.6340e-02,  3.4857e-02,  9.8127e-02,  2.6733e-02,\n",
       "         -2.1353e-01,  2.7461e-02, -7.9806e-03, -4.5208e-02,  8.1195e-02,\n",
       "          4.7009e-02, -1.5147e-01, -5.8394e-03, -1.5017e-01,  3.9351e-02,\n",
       "         -1.3954e-01,  9.4359e-02,  9.6471e-03, -1.4057e-02, -9.1546e-02,\n",
       "          1.4630e-02, -8.0884e-02,  1.1913e-01, -2.1734e-02,  3.3193e-03,\n",
       "         -3.8947e-02,  3.4657e-03,  4.9072e-03,  1.5977e-02, -1.0543e-02,\n",
       "          1.7758e-03, -1.5077e-03, -3.6084e-02, -2.5132e-02,  1.0315e-01,\n",
       "         -5.8607e-02,  1.3224e-01, -2.3454e-03, -4.0382e-03, -2.4305e-02,\n",
       "         -1.7312e-01,  1.1921e-01,  4.7901e-02,  7.5578e-02, -6.1821e-02,\n",
       "          7.9239e-03, -1.0010e-01,  3.9958e-02, -2.0706e-02, -6.1934e-02,\n",
       "          2.2577e-02,  4.9538e-04, -8.5173e-02, -6.4605e-02]]), hidden_states=None, past_key_values=None, attentions=None, cross_attentions=None)"
      ]
     },
     "execution_count": 213,
     "metadata": {},
     "output_type": "execute_result"
    }
   ],
   "source": [
    "output"
   ]
  },
  {
   "cell_type": "code",
   "execution_count": 214,
   "id": "ed3cf41f",
   "metadata": {},
   "outputs": [
    {
     "data": {
      "text/plain": [
       "693"
      ]
     },
     "execution_count": 214,
     "metadata": {},
     "output_type": "execute_result"
    }
   ],
   "source": [
    "text = df_final['combined_info'].tolist() #convert panda series to text\n",
    "len(text)"
   ]
  },
  {
   "cell_type": "code",
   "execution_count": 215,
   "id": "f9fe3c8f",
   "metadata": {},
   "outputs": [
    {
     "data": {
      "text/plain": [
       "{'input_ids': tensor([[ 101, 2516, 1024,  ...,    0,    0,    0],\n",
       "        [ 101, 2516, 1024,  ...,    0,    0,    0],\n",
       "        [ 101, 2516, 1024,  ...,    0,    0,    0],\n",
       "        ...,\n",
       "        [ 101, 2516, 1024,  ...,    0,    0,    0],\n",
       "        [ 101, 2516, 1024,  ...,    0,    0,    0],\n",
       "        [ 101, 2516, 1024,  ...,    0,    0,    0]]), 'token_type_ids': tensor([[0, 0, 0,  ..., 0, 0, 0],\n",
       "        [0, 0, 0,  ..., 0, 0, 0],\n",
       "        [0, 0, 0,  ..., 0, 0, 0],\n",
       "        ...,\n",
       "        [0, 0, 0,  ..., 0, 0, 0],\n",
       "        [0, 0, 0,  ..., 0, 0, 0],\n",
       "        [0, 0, 0,  ..., 0, 0, 0]]), 'attention_mask': tensor([[1, 1, 1,  ..., 0, 0, 0],\n",
       "        [1, 1, 1,  ..., 0, 0, 0],\n",
       "        [1, 1, 1,  ..., 0, 0, 0],\n",
       "        ...,\n",
       "        [1, 1, 1,  ..., 0, 0, 0],\n",
       "        [1, 1, 1,  ..., 0, 0, 0],\n",
       "        [1, 1, 1,  ..., 0, 0, 0]])}"
      ]
     },
     "execution_count": 215,
     "metadata": {},
     "output_type": "execute_result"
    }
   ],
   "source": [
    "inputs= tokenizer(text , \n",
    "          return_tensors=\"pt\",\n",
    "          truncation=True,\n",
    "          padding= True, \n",
    "          max_length = 512)\n",
    "\n",
    "inputs "
   ]
  },
  {
   "cell_type": "code",
   "execution_count": 216,
   "id": "4a5aca6f",
   "metadata": {},
   "outputs": [
    {
     "data": {
      "text/plain": [
       "693"
      ]
     },
     "execution_count": 216,
     "metadata": {},
     "output_type": "execute_result"
    }
   ],
   "source": [
    "len(inputs['input_ids'])"
   ]
  },
  {
   "cell_type": "code",
   "execution_count": 217,
   "id": "c5451725",
   "metadata": {},
   "outputs": [
    {
     "data": {
      "text/html": [
       "<div>\n",
       "<style scoped>\n",
       "    .dataframe tbody tr th:only-of-type {\n",
       "        vertical-align: middle;\n",
       "    }\n",
       "\n",
       "    .dataframe tbody tr th {\n",
       "        vertical-align: top;\n",
       "    }\n",
       "\n",
       "    .dataframe thead th {\n",
       "        text-align: right;\n",
       "    }\n",
       "</style>\n",
       "<table border=\"1\" class=\"dataframe\">\n",
       "  <thead>\n",
       "    <tr style=\"text-align: right;\">\n",
       "      <th></th>\n",
       "      <th>genres</th>\n",
       "      <th>title</th>\n",
       "      <th>overview</th>\n",
       "      <th>weighted_rate</th>\n",
       "      <th>combined_info</th>\n",
       "      <th>n_tokens</th>\n",
       "    </tr>\n",
       "  </thead>\n",
       "  <tbody>\n",
       "    <tr>\n",
       "      <th>0</th>\n",
       "      <td>[Adventure, Action, Thriller]</td>\n",
       "      <td>GoldenEye</td>\n",
       "      <td>James Bond must unmask the mysterious head of ...</td>\n",
       "      <td>6.481832</td>\n",
       "      <td>Title: GoldenEye. Overview: James Bond must un...</td>\n",
       "      <td>62</td>\n",
       "    </tr>\n",
       "    <tr>\n",
       "      <th>1</th>\n",
       "      <td>[Comedy]</td>\n",
       "      <td>Friday</td>\n",
       "      <td>Craig and Smokey are two guys in Los Angeles h...</td>\n",
       "      <td>6.667162</td>\n",
       "      <td>Title: Friday. Overview: Craig and Smokey are ...</td>\n",
       "      <td>55</td>\n",
       "    </tr>\n",
       "    <tr>\n",
       "      <th>2</th>\n",
       "      <td>[Horror, Action, Thriller, Crime]</td>\n",
       "      <td>From Dusk Till Dawn</td>\n",
       "      <td>Seth Gecko and his younger brother Richard are...</td>\n",
       "      <td>6.784701</td>\n",
       "      <td>Title: From Dusk Till Dawn. Overview: Seth Gec...</td>\n",
       "      <td>109</td>\n",
       "    </tr>\n",
       "    <tr>\n",
       "      <th>3</th>\n",
       "      <td>[Comedy]</td>\n",
       "      <td>Blue in the Face</td>\n",
       "      <td>Auggie runs a small tobacco shop in Brooklyn, ...</td>\n",
       "      <td>5.778723</td>\n",
       "      <td>Title: Blue in the Face. Overview: Auggie runs...</td>\n",
       "      <td>89</td>\n",
       "    </tr>\n",
       "    <tr>\n",
       "      <th>4</th>\n",
       "      <td>[Action, Adventure, Science Fiction, Family, F...</td>\n",
       "      <td>Mighty Morphin Power Rangers: The Movie</td>\n",
       "      <td>Power up with six incredible teens who out-man...</td>\n",
       "      <td>5.404473</td>\n",
       "      <td>Title: Mighty Morphin Power Rangers: The Movie...</td>\n",
       "      <td>91</td>\n",
       "    </tr>\n",
       "    <tr>\n",
       "      <th>...</th>\n",
       "      <td>...</td>\n",
       "      <td>...</td>\n",
       "      <td>...</td>\n",
       "      <td>...</td>\n",
       "      <td>...</td>\n",
       "      <td>...</td>\n",
       "    </tr>\n",
       "    <tr>\n",
       "      <th>688</th>\n",
       "      <td>[Drama, Science Fiction, War]</td>\n",
       "      <td>War for the Planet of the Apes</td>\n",
       "      <td>Caesar and his apes are forced into a deadly c...</td>\n",
       "      <td>6.604087</td>\n",
       "      <td>Title: War for the Planet of the Apes. Overvie...</td>\n",
       "      <td>125</td>\n",
       "    </tr>\n",
       "    <tr>\n",
       "      <th>689</th>\n",
       "      <td>[Comedy]</td>\n",
       "      <td>Goon: Last of the Enforcers</td>\n",
       "      <td>During a pro lockout, Doug \"The Thug\" Glatt is...</td>\n",
       "      <td>5.671795</td>\n",
       "      <td>Title: Goon: Last of the Enforcers. Overview: ...</td>\n",
       "      <td>79</td>\n",
       "    </tr>\n",
       "    <tr>\n",
       "      <th>690</th>\n",
       "      <td>[Adventure, Fantasy, Animation, Action, Family]</td>\n",
       "      <td>Pokémon: Spell of the Unknown</td>\n",
       "      <td>When Molly Hale's sadness of her father's disa...</td>\n",
       "      <td>5.789474</td>\n",
       "      <td>Title: Pokémon: Spell of the Unknown. Overview...</td>\n",
       "      <td>124</td>\n",
       "    </tr>\n",
       "    <tr>\n",
       "      <th>691</th>\n",
       "      <td>[Action, Science Fiction, Thriller, Adventure]</td>\n",
       "      <td>Transformers: The Last Knight</td>\n",
       "      <td>Autobots and Decepticons are at war, with huma...</td>\n",
       "      <td>6.140000</td>\n",
       "      <td>Title: Transformers: The Last Knight. Overview...</td>\n",
       "      <td>76</td>\n",
       "    </tr>\n",
       "    <tr>\n",
       "      <th>692</th>\n",
       "      <td>[Crime, Comedy, Action]</td>\n",
       "      <td>Bon Cop Bad Cop 2</td>\n",
       "      <td>Ward and Bouchard must face an important car t...</td>\n",
       "      <td>5.636364</td>\n",
       "      <td>Title: Bon Cop Bad Cop 2. Overview: Ward and B...</td>\n",
       "      <td>74</td>\n",
       "    </tr>\n",
       "  </tbody>\n",
       "</table>\n",
       "<p>693 rows × 6 columns</p>\n",
       "</div>"
      ],
      "text/plain": [
       "                                                genres  \\\n",
       "0                        [Adventure, Action, Thriller]   \n",
       "1                                             [Comedy]   \n",
       "2                    [Horror, Action, Thriller, Crime]   \n",
       "3                                             [Comedy]   \n",
       "4    [Action, Adventure, Science Fiction, Family, F...   \n",
       "..                                                 ...   \n",
       "688                      [Drama, Science Fiction, War]   \n",
       "689                                           [Comedy]   \n",
       "690    [Adventure, Fantasy, Animation, Action, Family]   \n",
       "691     [Action, Science Fiction, Thriller, Adventure]   \n",
       "692                            [Crime, Comedy, Action]   \n",
       "\n",
       "                                       title  \\\n",
       "0                                  GoldenEye   \n",
       "1                                     Friday   \n",
       "2                        From Dusk Till Dawn   \n",
       "3                           Blue in the Face   \n",
       "4    Mighty Morphin Power Rangers: The Movie   \n",
       "..                                       ...   \n",
       "688           War for the Planet of the Apes   \n",
       "689              Goon: Last of the Enforcers   \n",
       "690            Pokémon: Spell of the Unknown   \n",
       "691            Transformers: The Last Knight   \n",
       "692                        Bon Cop Bad Cop 2   \n",
       "\n",
       "                                              overview  weighted_rate  \\\n",
       "0    James Bond must unmask the mysterious head of ...       6.481832   \n",
       "1    Craig and Smokey are two guys in Los Angeles h...       6.667162   \n",
       "2    Seth Gecko and his younger brother Richard are...       6.784701   \n",
       "3    Auggie runs a small tobacco shop in Brooklyn, ...       5.778723   \n",
       "4    Power up with six incredible teens who out-man...       5.404473   \n",
       "..                                                 ...            ...   \n",
       "688  Caesar and his apes are forced into a deadly c...       6.604087   \n",
       "689  During a pro lockout, Doug \"The Thug\" Glatt is...       5.671795   \n",
       "690  When Molly Hale's sadness of her father's disa...       5.789474   \n",
       "691  Autobots and Decepticons are at war, with huma...       6.140000   \n",
       "692  Ward and Bouchard must face an important car t...       5.636364   \n",
       "\n",
       "                                         combined_info  n_tokens  \n",
       "0    Title: GoldenEye. Overview: James Bond must un...        62  \n",
       "1    Title: Friday. Overview: Craig and Smokey are ...        55  \n",
       "2    Title: From Dusk Till Dawn. Overview: Seth Gec...       109  \n",
       "3    Title: Blue in the Face. Overview: Auggie runs...        89  \n",
       "4    Title: Mighty Morphin Power Rangers: The Movie...        91  \n",
       "..                                                 ...       ...  \n",
       "688  Title: War for the Planet of the Apes. Overvie...       125  \n",
       "689  Title: Goon: Last of the Enforcers. Overview: ...        79  \n",
       "690  Title: Pokémon: Spell of the Unknown. Overview...       124  \n",
       "691  Title: Transformers: The Last Knight. Overview...        76  \n",
       "692  Title: Bon Cop Bad Cop 2. Overview: Ward and B...        74  \n",
       "\n",
       "[693 rows x 6 columns]"
      ]
     },
     "execution_count": 217,
     "metadata": {},
     "output_type": "execute_result"
    }
   ],
   "source": [
    "df_final['n_tokens'] = df_final.combined_info.apply(lambda X: (tokenizer(X , return_tensors= 'pt')['input_ids']).shape[1])\n",
    "df_final"
   ]
  },
  {
   "cell_type": "code",
   "execution_count": 94,
   "id": "1bd1cf0e",
   "metadata": {},
   "outputs": [],
   "source": [
    "with torch.no_grad():\n",
    "    embedding_array= model(**inputs)"
   ]
  },
  {
   "cell_type": "code",
   "execution_count": null,
   "id": "57b7e423",
   "metadata": {},
   "outputs": [],
   "source": []
  },
  {
   "cell_type": "code",
   "execution_count": 218,
   "id": "c59801b1",
   "metadata": {},
   "outputs": [],
   "source": [
    "## making copy of embedding incase if i mistakly do anythign wrong with embedding_array \n",
    "embedding_copy = embedding_array.copy() \n"
   ]
  },
  {
   "cell_type": "code",
   "execution_count": 221,
   "id": "96735dbb",
   "metadata": {},
   "outputs": [],
   "source": [
    "## converting into numpy to store in data france , because all of its flexiable and all of our data in dataframe is in , df \n",
    "\n",
    "embedding_numpy = embedding_array.last_hidden_state.numpy()"
   ]
  },
  {
   "cell_type": "code",
   "execution_count": 222,
   "id": "0e36da18",
   "metadata": {},
   "outputs": [
    {
     "data": {
      "text/plain": [
       "(693, 349, 384)"
      ]
     },
     "execution_count": 222,
     "metadata": {},
     "output_type": "execute_result"
    }
   ],
   "source": [
    "embedding_numpy.shape"
   ]
  },
  {
   "cell_type": "markdown",
   "id": "c38c8016",
   "metadata": {},
   "source": [
    "so their is 693 sentences , 349 tokens of 384 dimnetion \n",
    "say for \n",
    "\n",
    "sentence = \"I am very good\"\n",
    "\n",
    "tokens is = [\"[CLS]\", \"i\", \"am\", \"very\", \"good\", \"[SEP]\"]\n",
    "\n",
    "so embeddding is \n",
    "tensor of shape: [1 sentence, 6 tokens, 384 dims] → shape = [1, 6, 384]\n",
    "\n",
    "\n",
    "\n"
   ]
  },
  {
   "cell_type": "markdown",
   "id": "cf858781",
   "metadata": {},
   "source": [
    "now torch.Size([693, 349, 384]) \n",
    "for a sentence  say i am very good, \n",
    "we have [\"[CLS]\", \"i\", \"am\", \"very\", \"good\", \"[SEP]\"]\n",
    "\n",
    "i.e 6 tokens now \n",
    "we want to represent a hole sentence by one vector so we are doing mean"
   ]
  },
  {
   "cell_type": "code",
   "execution_count": null,
   "id": "bf4e270c",
   "metadata": {},
   "outputs": [],
   "source": []
  },
  {
   "cell_type": "code",
   "execution_count": 223,
   "id": "53cab9a5",
   "metadata": {},
   "outputs": [
    {
     "data": {
      "text/plain": [
       "(693, 384)"
      ]
     },
     "execution_count": 223,
     "metadata": {},
     "output_type": "execute_result"
    }
   ],
   "source": [
    "embedding_numpy = embedding_numpy.mean(axis=1) # shape: [693, 384] \n",
    "embedding_numpy.shape\n"
   ]
  },
  {
   "cell_type": "code",
   "execution_count": 224,
   "id": "9f4749b7",
   "metadata": {},
   "outputs": [
    {
     "data": {
      "text/plain": [
       "array([[-0.19643553, -0.08661386,  0.21602945, ..., -0.25122502,\n",
       "        -0.33632895,  0.06539772],\n",
       "       [-0.17898254, -0.2061276 ,  0.14108713, ..., -0.14415035,\n",
       "        -0.36454177, -0.31518635],\n",
       "       [-0.11210436,  0.0285191 ,  0.11703064, ..., -0.11924844,\n",
       "        -0.10108929, -0.08547185],\n",
       "       ...,\n",
       "       [-0.28569093, -0.11247236,  0.23833783, ...,  0.00089295,\n",
       "        -0.15736026, -0.06546038],\n",
       "       [-0.23081812, -0.16144682,  0.09814534, ...,  0.1278521 ,\n",
       "        -0.20404774,  0.06403951],\n",
       "       [-0.12779997, -0.06317351,  0.2321681 , ..., -0.01115447,\n",
       "        -0.14299175,  0.02294864]], dtype=float32)"
      ]
     },
     "execution_count": 224,
     "metadata": {},
     "output_type": "execute_result"
    }
   ],
   "source": [
    "embedding_numpy"
   ]
  },
  {
   "cell_type": "code",
   "execution_count": 225,
   "id": "8af781f2",
   "metadata": {},
   "outputs": [],
   "source": [
    "final_embedding = embedding_numpy.copy()"
   ]
  },
  {
   "cell_type": "code",
   "execution_count": 235,
   "id": "0ceaf9c9",
   "metadata": {},
   "outputs": [
    {
     "data": {
      "text/html": [
       "<div>\n",
       "<style scoped>\n",
       "    .dataframe tbody tr th:only-of-type {\n",
       "        vertical-align: middle;\n",
       "    }\n",
       "\n",
       "    .dataframe tbody tr th {\n",
       "        vertical-align: top;\n",
       "    }\n",
       "\n",
       "    .dataframe thead th {\n",
       "        text-align: right;\n",
       "    }\n",
       "</style>\n",
       "<table border=\"1\" class=\"dataframe\">\n",
       "  <thead>\n",
       "    <tr style=\"text-align: right;\">\n",
       "      <th></th>\n",
       "      <th>genres</th>\n",
       "      <th>title</th>\n",
       "      <th>overview</th>\n",
       "      <th>weighted_rate</th>\n",
       "      <th>combined_info</th>\n",
       "      <th>n_tokens</th>\n",
       "      <th>embedding</th>\n",
       "    </tr>\n",
       "  </thead>\n",
       "  <tbody>\n",
       "    <tr>\n",
       "      <th>0</th>\n",
       "      <td>[Adventure, Action, Thriller]</td>\n",
       "      <td>GoldenEye</td>\n",
       "      <td>James Bond must unmask the mysterious head of ...</td>\n",
       "      <td>6.481832</td>\n",
       "      <td>Title: GoldenEye. Overview: James Bond must un...</td>\n",
       "      <td>62</td>\n",
       "      <td>[-0.19643552601337433, -0.08661386370658875, 0...</td>\n",
       "    </tr>\n",
       "    <tr>\n",
       "      <th>1</th>\n",
       "      <td>[Comedy]</td>\n",
       "      <td>Friday</td>\n",
       "      <td>Craig and Smokey are two guys in Los Angeles h...</td>\n",
       "      <td>6.667162</td>\n",
       "      <td>Title: Friday. Overview: Craig and Smokey are ...</td>\n",
       "      <td>55</td>\n",
       "      <td>[-0.17898254096508026, -0.2061275988817215, 0....</td>\n",
       "    </tr>\n",
       "    <tr>\n",
       "      <th>2</th>\n",
       "      <td>[Horror, Action, Thriller, Crime]</td>\n",
       "      <td>From Dusk Till Dawn</td>\n",
       "      <td>Seth Gecko and his younger brother Richard are...</td>\n",
       "      <td>6.784701</td>\n",
       "      <td>Title: From Dusk Till Dawn. Overview: Seth Gec...</td>\n",
       "      <td>109</td>\n",
       "      <td>[-0.11210436373949051, 0.028519099578261375, 0...</td>\n",
       "    </tr>\n",
       "    <tr>\n",
       "      <th>3</th>\n",
       "      <td>[Comedy]</td>\n",
       "      <td>Blue in the Face</td>\n",
       "      <td>Auggie runs a small tobacco shop in Brooklyn, ...</td>\n",
       "      <td>5.778723</td>\n",
       "      <td>Title: Blue in the Face. Overview: Auggie runs...</td>\n",
       "      <td>89</td>\n",
       "      <td>[-0.24224744737148285, -0.15072309970855713, 0...</td>\n",
       "    </tr>\n",
       "    <tr>\n",
       "      <th>4</th>\n",
       "      <td>[Action, Adventure, Science Fiction, Family, F...</td>\n",
       "      <td>Mighty Morphin Power Rangers: The Movie</td>\n",
       "      <td>Power up with six incredible teens who out-man...</td>\n",
       "      <td>5.404473</td>\n",
       "      <td>Title: Mighty Morphin Power Rangers: The Movie...</td>\n",
       "      <td>91</td>\n",
       "      <td>[-0.24096280336380005, 0.02875164896249771, 0....</td>\n",
       "    </tr>\n",
       "  </tbody>\n",
       "</table>\n",
       "</div>"
      ],
      "text/plain": [
       "                                              genres  \\\n",
       "0                      [Adventure, Action, Thriller]   \n",
       "1                                           [Comedy]   \n",
       "2                  [Horror, Action, Thriller, Crime]   \n",
       "3                                           [Comedy]   \n",
       "4  [Action, Adventure, Science Fiction, Family, F...   \n",
       "\n",
       "                                     title  \\\n",
       "0                                GoldenEye   \n",
       "1                                   Friday   \n",
       "2                      From Dusk Till Dawn   \n",
       "3                         Blue in the Face   \n",
       "4  Mighty Morphin Power Rangers: The Movie   \n",
       "\n",
       "                                            overview  weighted_rate  \\\n",
       "0  James Bond must unmask the mysterious head of ...       6.481832   \n",
       "1  Craig and Smokey are two guys in Los Angeles h...       6.667162   \n",
       "2  Seth Gecko and his younger brother Richard are...       6.784701   \n",
       "3  Auggie runs a small tobacco shop in Brooklyn, ...       5.778723   \n",
       "4  Power up with six incredible teens who out-man...       5.404473   \n",
       "\n",
       "                                       combined_info  n_tokens  \\\n",
       "0  Title: GoldenEye. Overview: James Bond must un...        62   \n",
       "1  Title: Friday. Overview: Craig and Smokey are ...        55   \n",
       "2  Title: From Dusk Till Dawn. Overview: Seth Gec...       109   \n",
       "3  Title: Blue in the Face. Overview: Auggie runs...        89   \n",
       "4  Title: Mighty Morphin Power Rangers: The Movie...        91   \n",
       "\n",
       "                                           embedding  \n",
       "0  [-0.19643552601337433, -0.08661386370658875, 0...  \n",
       "1  [-0.17898254096508026, -0.2061275988817215, 0....  \n",
       "2  [-0.11210436373949051, 0.028519099578261375, 0...  \n",
       "3  [-0.24224744737148285, -0.15072309970855713, 0...  \n",
       "4  [-0.24096280336380005, 0.02875164896249771, 0....  "
      ]
     },
     "execution_count": 235,
     "metadata": {},
     "output_type": "execute_result"
    }
   ],
   "source": [
    "df_final['embedding'] =embedding_numpy.tolist()\n",
    "df_final.head()"
   ]
  },
  {
   "cell_type": "markdown",
   "id": "c67b0b2d",
   "metadata": {},
   "source": [
    "now we add new column to our dataset as embedding_list\n",
    "buts is on pytorch  and pytroch df is hard to manipulte or serialize to save (csv , json )takes more moeroy and processing overhead "
   ]
  },
  {
   "cell_type": "code",
   "execution_count": 236,
   "id": "b477cb79",
   "metadata": {},
   "outputs": [],
   "source": [
    "df_final.rename(columns= {'embedding': 'vector'}, inplace= True)\n",
    "df_final.rename(columns={'combined_info': 'text'} , inplace= True)\n"
   ]
  },
  {
   "cell_type": "code",
   "execution_count": 237,
   "id": "d302bbcb",
   "metadata": {},
   "outputs": [],
   "source": [
    "## save models \n",
    "df_final.to_pickle(\"moview_all-MiniLM-L6-v2_token.pkl\")"
   ]
  },
  {
   "cell_type": "markdown",
   "id": "bef71abf",
   "metadata": {},
   "source": [
    "## working with llms "
   ]
  },
  {
   "cell_type": "code",
   "execution_count": 238,
   "id": "3aaaf417",
   "metadata": {},
   "outputs": [],
   "source": [
    "from langchain.vectorstores import LanceDB "
   ]
  },
  {
   "cell_type": "code",
   "execution_count": 239,
   "id": "9f8b1e63",
   "metadata": {},
   "outputs": [
    {
     "data": {
      "text/html": [
       "<div>\n",
       "<style scoped>\n",
       "    .dataframe tbody tr th:only-of-type {\n",
       "        vertical-align: middle;\n",
       "    }\n",
       "\n",
       "    .dataframe tbody tr th {\n",
       "        vertical-align: top;\n",
       "    }\n",
       "\n",
       "    .dataframe thead th {\n",
       "        text-align: right;\n",
       "    }\n",
       "</style>\n",
       "<table border=\"1\" class=\"dataframe\">\n",
       "  <thead>\n",
       "    <tr style=\"text-align: right;\">\n",
       "      <th></th>\n",
       "      <th>genres</th>\n",
       "      <th>title</th>\n",
       "      <th>overview</th>\n",
       "      <th>weighted_rate</th>\n",
       "      <th>text</th>\n",
       "      <th>n_tokens</th>\n",
       "      <th>vector</th>\n",
       "    </tr>\n",
       "  </thead>\n",
       "  <tbody>\n",
       "    <tr>\n",
       "      <th>0</th>\n",
       "      <td>[Adventure, Action, Thriller]</td>\n",
       "      <td>GoldenEye</td>\n",
       "      <td>James Bond must unmask the mysterious head of ...</td>\n",
       "      <td>6.481832</td>\n",
       "      <td>Title: GoldenEye. Overview: James Bond must un...</td>\n",
       "      <td>62</td>\n",
       "      <td>[-0.19643552601337433, -0.08661386370658875, 0...</td>\n",
       "    </tr>\n",
       "    <tr>\n",
       "      <th>1</th>\n",
       "      <td>[Comedy]</td>\n",
       "      <td>Friday</td>\n",
       "      <td>Craig and Smokey are two guys in Los Angeles h...</td>\n",
       "      <td>6.667162</td>\n",
       "      <td>Title: Friday. Overview: Craig and Smokey are ...</td>\n",
       "      <td>55</td>\n",
       "      <td>[-0.17898254096508026, -0.2061275988817215, 0....</td>\n",
       "    </tr>\n",
       "    <tr>\n",
       "      <th>2</th>\n",
       "      <td>[Horror, Action, Thriller, Crime]</td>\n",
       "      <td>From Dusk Till Dawn</td>\n",
       "      <td>Seth Gecko and his younger brother Richard are...</td>\n",
       "      <td>6.784701</td>\n",
       "      <td>Title: From Dusk Till Dawn. Overview: Seth Gec...</td>\n",
       "      <td>109</td>\n",
       "      <td>[-0.11210436373949051, 0.028519099578261375, 0...</td>\n",
       "    </tr>\n",
       "    <tr>\n",
       "      <th>3</th>\n",
       "      <td>[Comedy]</td>\n",
       "      <td>Blue in the Face</td>\n",
       "      <td>Auggie runs a small tobacco shop in Brooklyn, ...</td>\n",
       "      <td>5.778723</td>\n",
       "      <td>Title: Blue in the Face. Overview: Auggie runs...</td>\n",
       "      <td>89</td>\n",
       "      <td>[-0.24224744737148285, -0.15072309970855713, 0...</td>\n",
       "    </tr>\n",
       "    <tr>\n",
       "      <th>4</th>\n",
       "      <td>[Action, Adventure, Science Fiction, Family, F...</td>\n",
       "      <td>Mighty Morphin Power Rangers: The Movie</td>\n",
       "      <td>Power up with six incredible teens who out-man...</td>\n",
       "      <td>5.404473</td>\n",
       "      <td>Title: Mighty Morphin Power Rangers: The Movie...</td>\n",
       "      <td>91</td>\n",
       "      <td>[-0.24096280336380005, 0.02875164896249771, 0....</td>\n",
       "    </tr>\n",
       "  </tbody>\n",
       "</table>\n",
       "</div>"
      ],
      "text/plain": [
       "                                              genres  \\\n",
       "0                      [Adventure, Action, Thriller]   \n",
       "1                                           [Comedy]   \n",
       "2                  [Horror, Action, Thriller, Crime]   \n",
       "3                                           [Comedy]   \n",
       "4  [Action, Adventure, Science Fiction, Family, F...   \n",
       "\n",
       "                                     title  \\\n",
       "0                                GoldenEye   \n",
       "1                                   Friday   \n",
       "2                      From Dusk Till Dawn   \n",
       "3                         Blue in the Face   \n",
       "4  Mighty Morphin Power Rangers: The Movie   \n",
       "\n",
       "                                            overview  weighted_rate  \\\n",
       "0  James Bond must unmask the mysterious head of ...       6.481832   \n",
       "1  Craig and Smokey are two guys in Los Angeles h...       6.667162   \n",
       "2  Seth Gecko and his younger brother Richard are...       6.784701   \n",
       "3  Auggie runs a small tobacco shop in Brooklyn, ...       5.778723   \n",
       "4  Power up with six incredible teens who out-man...       5.404473   \n",
       "\n",
       "                                                text  n_tokens  \\\n",
       "0  Title: GoldenEye. Overview: James Bond must un...        62   \n",
       "1  Title: Friday. Overview: Craig and Smokey are ...        55   \n",
       "2  Title: From Dusk Till Dawn. Overview: Seth Gec...       109   \n",
       "3  Title: Blue in the Face. Overview: Auggie runs...        89   \n",
       "4  Title: Mighty Morphin Power Rangers: The Movie...        91   \n",
       "\n",
       "                                              vector  \n",
       "0  [-0.19643552601337433, -0.08661386370658875, 0...  \n",
       "1  [-0.17898254096508026, -0.2061275988817215, 0....  \n",
       "2  [-0.11210436373949051, 0.028519099578261375, 0...  \n",
       "3  [-0.24224744737148285, -0.15072309970855713, 0...  \n",
       "4  [-0.24096280336380005, 0.02875164896249771, 0....  "
      ]
     },
     "execution_count": 239,
     "metadata": {},
     "output_type": "execute_result"
    }
   ],
   "source": [
    "df = pd.read_pickle('moview_all-MiniLM-L6-v2_token.pkl')\n",
    "df.head()"
   ]
  },
  {
   "cell_type": "code",
   "execution_count": 240,
   "id": "2106d82f",
   "metadata": {},
   "outputs": [
    {
     "data": {
      "text/plain": [
       "'Title: GoldenEye. Overview: James Bond must unmask the mysterious head of the Janus Syndicate and prevent the leader from utilizing the GoldenEye weapons system to inflict devastating revenge on Britain. Genres: Adventure, Action, Thriller. Rating: 6.4818316100443125'"
      ]
     },
     "execution_count": 240,
     "metadata": {},
     "output_type": "execute_result"
    }
   ],
   "source": [
    "df['text'][0]"
   ]
  },
  {
   "cell_type": "code",
   "execution_count": 241,
   "id": "e2e175a8",
   "metadata": {},
   "outputs": [],
   "source": [
    "from langchain.document_loaders import UnstructuredHTMLLoader \n",
    "from langchain_huggingface import HuggingFaceEmbeddings\n",
    "from langchain.text_splitter import RecursiveCharacterTextSplitter \n",
    "from langchain.vectorstores import LanceDB\n",
    "\n",
    " \n",
    "from langchain.chains import RetrievalQA \n",
    "from langchain_huggingface import ChatHuggingFace , HuggingFacePipeline \n",
    "from langchain_huggingface import HuggingFaceEmbeddings \n",
    "\n",
    "mode_name= 'sentence-transformers/all-MiniLM-L6-v2'\n",
    "\n",
    "embedding = HuggingFaceEmbeddings(\n",
    "    model_name= mode_name,\n",
    "    model_kwargs= {'device':'cuda'},\n",
    ")\n"
   ]
  },
  {
   "cell_type": "code",
   "execution_count": 242,
   "id": "53e9620b",
   "metadata": {},
   "outputs": [
    {
     "data": {
      "text/plain": [
       "['mov', 'movies', 'moview', 'moviews']"
      ]
     },
     "execution_count": 242,
     "metadata": {},
     "output_type": "execute_result"
    }
   ],
   "source": [
    "import lancedb \n",
    "\n",
    "uri = \"vector_data/sample-lancedb\"\n",
    "db= lancedb.connect(uri)\n",
    "\n",
    "table_name = \"mov\"\n",
    "\n",
    "db.create_table(name =  table_name, data=df_final, mode=\"overwrite\")\n",
    "\n",
    "db.table_names()"
   ]
  },
  {
   "cell_type": "code",
   "execution_count": 243,
   "id": "1a345311",
   "metadata": {},
   "outputs": [],
   "source": [
    "table = db.open_table('mov')\n"
   ]
  },
  {
   "cell_type": "code",
   "execution_count": null,
   "id": "495f5b91",
   "metadata": {},
   "outputs": [],
   "source": []
  },
  {
   "cell_type": "code",
   "execution_count": 244,
   "id": "3075c062",
   "metadata": {},
   "outputs": [
    {
     "data": {
      "text/plain": [
       "[Document(metadata={}, page_content='Title: La Vérité si je Mens ! 3. Overview: Eddie, Dov, Yvan et les autres… Nos chaleureux amis ont migré du Sentier moribond à la banlieue florissante d’Aubervilliers… Là où les vieux entrepreneurs juifs ont laissé le terrain à de jeunes grossistes chinois courageux et dynamiques…\\n La petite bande est toujours aussi soudée, solidaire que lors des épisodes précédents, et la vie suit son cours, au gré des petits évènements familiaux et des affaires.\\n Dov semble toujours frivole, Eddie entreprenant, Yvan transi, Karine désinvolte, Sandra résolue, Chochana naïve, Serge irresponsable et mythomane. Quant à Patrick, il est amoureux et l’heureuse élue est loin d’être facile d’accès.\\n Tout irait pour le mieux jusqu’à ce qu’un vent mauvais apporte son lot d’adversité compromettant sérieusement la cohésion du groupe.\\n Succomberont-ils sous l’orage à la zizanie, ou bien, une fois de plus, à force d’entraide, de ruses et d’habileté, triompheront-ils de la crise avec panache ? Genres: Comedy. Rating: 5.486046511627906'),\n",
       " Document(metadata={}, page_content=\"Title: Pokémon the Movie Black: Victini and Reshiram. Overview: The Kingdom of the People of the Vale once ruled over the land, but now all that remains is the Sword of the Vale. in the city of Eindoak. Ash, Iris, and Cilan arrive in Eindoak during a harvest festival's Pokémon Tournament and meet the legendary Pokémon Victini who wishes to share its powers of victory to someone. Elsewhere in the city, a descendant of the People of the Vale named Damon has arrived who seeks to revive the kingdom's power with the Sword of the Vale, bringing them back into power over the land, and Ash and his friends must stop him before he destroys the land along with Victini. Genres: Animation, Family, Adventure. Rating: 5.612568306010928\"),\n",
       " Document(metadata={}, page_content=\"Title: How to Train Your Dragon 2. Overview: The thrilling second chapter of the epic How To Train Your Dragon trilogy brings back the fantastical world of Hiccup and Toothless five years later. While Astrid, Snotlout and the rest of the gang are challenging each other to dragon races (the island's new favorite contact sport), the now inseparable pair journey through the skies, charting unmapped territories and exploring new worlds. When one of their adventures leads to the discovery of a secret ice cave that is home to hundreds of new wild dragons and the mysterious Dragon Rider, the two friends find themselves at the center of a battle to protect the peace. Genres: Fantasy, Action, Adventure, Animation, Comedy, Family. Rating: 7.50370147457117\"),\n",
       " Document(metadata={}, page_content=\"Title: Justice League: Throne of Atlantis. Overview: After the events of Justice League: War, Ocean Master and Black Manta have declared a war against the surface in retaliation of the aftermath of Apokoliptian-tyrant Darkseid's planetary invasion. Queen Atlanna seeks out her other son, Ocean Master’s half-brother Arthur Curry, a half-human with aquatic powers with no knowledge of his Atlantean heritage, to restore balance.  Living with powers he doesn’t understand and seeing the danger around him, Curry takes steps to embrace his destiny, joining the Justice League, and with his new teammates he battles to save Earth from total destruction. Genres: Science Fiction, Action, Animation, Adventure. Rating: 6.12303664921466\")]"
      ]
     },
     "execution_count": 244,
     "metadata": {},
     "output_type": "execute_result"
    }
   ],
   "source": [
    "docsearch = LanceDB(connection = db , embedding= embedding, vector_key=\"vector\"  , table_name= table_name)\n",
    "\n",
    "query = \"action action action\"\n",
    "docsearch.similarity_search(query )\n"
   ]
  }
 ],
 "metadata": {
  "kernelspec": {
   "display_name": "Building-LLMs-for-Production",
   "language": "python",
   "name": "python3"
  },
  "language_info": {
   "codemirror_mode": {
    "name": "ipython",
    "version": 3
   },
   "file_extension": ".py",
   "mimetype": "text/x-python",
   "name": "python",
   "nbconvert_exporter": "python",
   "pygments_lexer": "ipython3",
   "version": "3.11.8"
  }
 },
 "nbformat": 4,
 "nbformat_minor": 5
}
